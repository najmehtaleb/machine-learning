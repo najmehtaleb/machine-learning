{
 "cells": [
  {
   "cell_type": "markdown",
   "id": "4817cee2",
   "metadata": {},
   "source": [
    "**Feature Selection**"
   ]
  },
  {
   "cell_type": "code",
   "execution_count": null,
   "id": "d0eafaff",
   "metadata": {},
   "outputs": [],
   "source": [
    "data_path = '/home/naji/Desktop/github-repos/machine-learning/nbs/0-datasets/data/'"
   ]
  },
  {
   "cell_type": "code",
   "execution_count": null,
   "id": "31dc2d06",
   "metadata": {},
   "outputs": [],
   "source": [
    "from pandas import read_csv\n",
    "from matplotlib import pyplot\n",
    "from sklearn.preprocessing import LabelEncoder, OrdinalEncoder\n",
    "from sklearn.model_selection import train_test_split\n",
    "from sklearn.linear_model import LogisticRegression\n",
    "from sklearn.metrics import accuracy_score"
   ]
  },
  {
   "cell_type": "markdown",
   "id": "ecab41f6",
   "metadata": {},
   "source": [
    "# Select Categorical Input Features"
   ]
  },
  {
   "cell_type": "code",
   "execution_count": null,
   "id": "47caddd3",
   "metadata": {},
   "outputs": [],
   "source": [
    "# load the dataset\n",
    "def load_data(filename):\n",
    "    df = read_csv(data_path + filename, header=None)\n",
    "    data = df.values\n",
    "    X , y = data[:, :-1], data[:, -1]\n",
    "    X = X.astype(str)\n",
    "    return X, y"
   ]
  },
  {
   "cell_type": "code",
   "execution_count": null,
   "id": "08052853",
   "metadata": {},
   "outputs": [],
   "source": [
    "# prepare input data\n",
    "def prepare_inputs(X_train, X_test):\n",
    "    ordenc = OrdinalEncoder()\n",
    "    ordenc.fit(X_train)\n",
    "    X_train_enc = ordenc.transform(X_train)\n",
    "    X_test_enc = ordenc.transform(X_test)\n",
    "    return X_train_enc, X_test_enc"
   ]
  },
  {
   "cell_type": "code",
   "execution_count": null,
   "id": "929069ab",
   "metadata": {},
   "outputs": [],
   "source": [
    "def prepare_targets(y_train, y_test):\n",
    "    labenc = LabelEncoder()\n",
    "    labenc.fit(y_train)\n",
    "    y_train_enc = labenc.transform(y_train)\n",
    "    y_test_enc = labenc.transform(y_test)\n",
    "    return y_train_enc, y_test_enc"
   ]
  },
  {
   "cell_type": "markdown",
   "id": "e7483c67",
   "metadata": {},
   "source": [
    "**Breast Cancer Categorical Dataset**"
   ]
  },
  {
   "cell_type": "code",
   "execution_count": null,
   "id": "9fac78d8",
   "metadata": {},
   "outputs": [],
   "source": [
    "df = read_csv(data_path + 'breast-cancer.csv', header=None)\n",
    "df.head(10)"
   ]
  },
  {
   "cell_type": "code",
   "execution_count": null,
   "id": "996e4cbe",
   "metadata": {},
   "outputs": [],
   "source": [
    "X, y = load_data('breast-cancer.csv')"
   ]
  },
  {
   "cell_type": "code",
   "execution_count": null,
   "id": "6c3459cf",
   "metadata": {},
   "outputs": [],
   "source": [
    "X_train, X_test, y_train, y_test = train_test_split(X, y, test_size=0.33, random_state=1)"
   ]
  },
  {
   "cell_type": "code",
   "execution_count": null,
   "id": "3ae8f06c",
   "metadata": {},
   "outputs": [],
   "source": [
    "X_train_enc, X_test_enc = prepare_inputs(X_train, X_test)"
   ]
  },
  {
   "cell_type": "code",
   "execution_count": null,
   "id": "8fbfc8b4",
   "metadata": {},
   "outputs": [],
   "source": [
    "y_train_enc, y_test_enc = prepare_targets(y_train, y_test)"
   ]
  },
  {
   "cell_type": "code",
   "execution_count": null,
   "id": "8d8e18e3",
   "metadata": {},
   "outputs": [],
   "source": [
    "X.shape, y.shape"
   ]
  },
  {
   "cell_type": "code",
   "execution_count": null,
   "id": "d0a5318b",
   "metadata": {},
   "outputs": [],
   "source": [
    "X[:5, :]"
   ]
  },
  {
   "cell_type": "code",
   "execution_count": null,
   "id": "5d36aa38",
   "metadata": {},
   "outputs": [],
   "source": [
    "y[:5]"
   ]
  },
  {
   "cell_type": "code",
   "execution_count": null,
   "id": "b9f9d05a",
   "metadata": {},
   "outputs": [],
   "source": [
    "X_train_enc.shape, X_test_enc.shape"
   ]
  },
  {
   "cell_type": "code",
   "execution_count": null,
   "id": "af86221d",
   "metadata": {},
   "outputs": [],
   "source": [
    "X_train_enc[:5, :]"
   ]
  },
  {
   "cell_type": "markdown",
   "id": "a643fa89",
   "metadata": {},
   "source": [
    "**Model Built Using All Features**"
   ]
  },
  {
   "cell_type": "code",
   "execution_count": null,
   "id": "c6fcf26f",
   "metadata": {},
   "outputs": [],
   "source": [
    "model = LogisticRegression(solver='lbfgs')"
   ]
  },
  {
   "cell_type": "code",
   "execution_count": null,
   "id": "0daabec6",
   "metadata": {},
   "outputs": [],
   "source": [
    "model.fit(X_train_enc, y_train_enc)"
   ]
  },
  {
   "cell_type": "code",
   "execution_count": null,
   "id": "cd9e8f68",
   "metadata": {},
   "outputs": [],
   "source": [
    "yhat = model.predict(X_test_enc)"
   ]
  },
  {
   "cell_type": "code",
   "execution_count": null,
   "id": "5b6ebdc5",
   "metadata": {},
   "outputs": [],
   "source": [
    "accuracy = accuracy_score(y_test_enc, yhat)"
   ]
  },
  {
   "cell_type": "code",
   "execution_count": null,
   "id": "2a7fd389",
   "metadata": {},
   "outputs": [],
   "source": [
    "print(f'Accuracy: {accuracy*100:.2f}%')"
   ]
  },
  {
   "cell_type": "markdown",
   "id": "b4eeebde",
   "metadata": {},
   "source": [
    "## Categorical Feature Selection"
   ]
  },
  {
   "cell_type": "markdown",
   "id": "34426774",
   "metadata": {},
   "source": [
    "### Chi-Squared Feature Selection"
   ]
  },
  {
   "cell_type": "code",
   "execution_count": null,
   "id": "aa7f4246",
   "metadata": {},
   "outputs": [],
   "source": [
    "from sklearn.feature_selection import SelectKBest, chi2"
   ]
  },
  {
   "cell_type": "code",
   "execution_count": null,
   "id": "33454fc4",
   "metadata": {},
   "outputs": [],
   "source": [
    "def select_features(X_train, y_train, X_test, k='all'):\n",
    "    fs = SelectKBest(score_func=chi2, k=k)\n",
    "    fs.fit(X_train, y_train)\n",
    "    X_train_fs = fs.transform(X_train)\n",
    "    X_test_fs = fs.transform(X_test)\n",
    "    return X_train_fs, X_test_fs, fs"
   ]
  },
  {
   "cell_type": "code",
   "execution_count": null,
   "id": "04f0cc84",
   "metadata": {},
   "outputs": [],
   "source": [
    "X, y = load_data('breast-cancer.csv')"
   ]
  },
  {
   "cell_type": "code",
   "execution_count": null,
   "id": "4281a924",
   "metadata": {},
   "outputs": [],
   "source": [
    "X_train, X_test, y_train, y_test = train_test_split(X, y, test_size=0.33, random_state=1)"
   ]
  },
  {
   "cell_type": "code",
   "execution_count": null,
   "id": "4dd43d2b",
   "metadata": {},
   "outputs": [],
   "source": [
    "X_train_enc, X_test_enc = prepare_inputs(X_train, X_test)"
   ]
  },
  {
   "cell_type": "code",
   "execution_count": null,
   "id": "4308e4aa",
   "metadata": {},
   "outputs": [],
   "source": [
    "y_train_enc, y_test_enc = prepare_targets(y_train, y_test)"
   ]
  },
  {
   "cell_type": "code",
   "execution_count": null,
   "id": "ad775509",
   "metadata": {},
   "outputs": [],
   "source": [
    "X_train_fs, X_test_fs, fs = select_features(X_train_enc, y_train_enc, X_test_enc)"
   ]
  },
  {
   "cell_type": "code",
   "execution_count": null,
   "id": "49d64fa2",
   "metadata": {},
   "outputs": [],
   "source": [
    "for i in range(len(fs.scores_)):\n",
    "    print(f'Features {i}: {fs.scores_[i]:.3f}')"
   ]
  },
  {
   "cell_type": "code",
   "execution_count": null,
   "id": "f6cf06b7",
   "metadata": {},
   "outputs": [],
   "source": [
    "pyplot.bar([i for i in range(len(fs.scores_))], fs.scores_)\n",
    "pyplot.show()"
   ]
  },
  {
   "cell_type": "markdown",
   "id": "f12c38fb",
   "metadata": {},
   "source": [
    "**Model Built Using Chi-Squared Features**"
   ]
  },
  {
   "cell_type": "code",
   "execution_count": null,
   "id": "c4ac43c6",
   "metadata": {},
   "outputs": [],
   "source": [
    "model = LogisticRegression(solver='lbfgs')"
   ]
  },
  {
   "cell_type": "code",
   "execution_count": null,
   "id": "4e1211db",
   "metadata": {},
   "outputs": [],
   "source": [
    "model.fit(X_train_fs, y_train_enc)"
   ]
  },
  {
   "cell_type": "code",
   "execution_count": null,
   "id": "47879681",
   "metadata": {},
   "outputs": [],
   "source": [
    "yhat = model.predict(X_test_fs)"
   ]
  },
  {
   "cell_type": "code",
   "execution_count": null,
   "id": "70afa206",
   "metadata": {},
   "outputs": [],
   "source": [
    "accuracy = accuracy_score(y_test_enc, yhat)"
   ]
  },
  {
   "cell_type": "code",
   "execution_count": null,
   "id": "47effb46",
   "metadata": {},
   "outputs": [],
   "source": [
    "print(f'Accuracy: {accuracy*100:.3f}%')"
   ]
  },
  {
   "cell_type": "markdown",
   "id": "99c4fb16",
   "metadata": {},
   "source": [
    "### Mutual Information Feature Selection"
   ]
  },
  {
   "cell_type": "code",
   "execution_count": null,
   "id": "050a5d54",
   "metadata": {},
   "outputs": [],
   "source": [
    "from sklearn.feature_selection import SelectKBest, mutual_info_classif"
   ]
  },
  {
   "cell_type": "code",
   "execution_count": null,
   "id": "b79c1b0c",
   "metadata": {},
   "outputs": [],
   "source": [
    "def select_features(X_train, y_train, X_test, k='all'):\n",
    "    fs = SelectKBest(score_func=mutual_info_classif, k=k)\n",
    "    fs.fit(X_train, y_train)\n",
    "    X_train_fs = fs.transform(X_train)\n",
    "    X_test_fs = fs.transform(X_test)\n",
    "    return X_train_fs, X_test_fs, fs"
   ]
  },
  {
   "cell_type": "code",
   "execution_count": null,
   "id": "d0024f7c",
   "metadata": {},
   "outputs": [],
   "source": [
    "X, y = load_data('breast-cancer.csv')"
   ]
  },
  {
   "cell_type": "code",
   "execution_count": null,
   "id": "c96ac703",
   "metadata": {},
   "outputs": [],
   "source": [
    "X_train, X_test, y_train, y_test = train_test_split(X, y, test_size=0.33, random_state=1)"
   ]
  },
  {
   "cell_type": "code",
   "execution_count": null,
   "id": "0db716df",
   "metadata": {},
   "outputs": [],
   "source": [
    "X_train_enc, X_test_enc = prepare_inputs(X_train, X_test)"
   ]
  },
  {
   "cell_type": "code",
   "execution_count": null,
   "id": "0f811dca",
   "metadata": {},
   "outputs": [],
   "source": [
    "y_train_enc, y_test_enc = prepare_targets(y_train, y_test)"
   ]
  },
  {
   "cell_type": "code",
   "execution_count": null,
   "id": "844e7595",
   "metadata": {},
   "outputs": [],
   "source": [
    "X_train_fs, X_test_fs, fs = select_features(X_train_enc, y_train_enc, X_test_enc)"
   ]
  },
  {
   "cell_type": "code",
   "execution_count": null,
   "id": "e8211d32",
   "metadata": {},
   "outputs": [],
   "source": [
    "for i in range(len(fs.scores_)):\n",
    "    print(f'Feature {i}: {fs.scores_[i]:.3f}')"
   ]
  },
  {
   "cell_type": "code",
   "execution_count": null,
   "id": "60dcbbc0",
   "metadata": {},
   "outputs": [],
   "source": [
    "pyplot.bar([i for i in range(len(fs.scores_))], fs.scores_)\n",
    "pyplot.show()"
   ]
  },
  {
   "cell_type": "markdown",
   "id": "0c8f6a3a",
   "metadata": {},
   "source": [
    "**Model Built Using Mutual Information Features**"
   ]
  },
  {
   "cell_type": "code",
   "execution_count": null,
   "id": "38ddd8f1",
   "metadata": {},
   "outputs": [],
   "source": [
    "model = LogisticRegression(solver='lbfgs')"
   ]
  },
  {
   "cell_type": "code",
   "execution_count": null,
   "id": "fa1bba5d",
   "metadata": {},
   "outputs": [],
   "source": [
    "model.fit(X_train_fs, y_train_enc)"
   ]
  },
  {
   "cell_type": "code",
   "execution_count": null,
   "id": "1a976c00",
   "metadata": {},
   "outputs": [],
   "source": [
    "yhat = model.predict(X_test_fs)"
   ]
  },
  {
   "cell_type": "code",
   "execution_count": null,
   "id": "f87eef0e",
   "metadata": {},
   "outputs": [],
   "source": [
    "accuracy = accuracy_score(y_test_enc, yhat)"
   ]
  },
  {
   "cell_type": "code",
   "execution_count": null,
   "id": "f7c9fb01",
   "metadata": {},
   "outputs": [],
   "source": [
    "print(f'Accuracy: {accuracy*100: 0.2f}%')"
   ]
  },
  {
   "cell_type": "markdown",
   "id": "bf9da45b",
   "metadata": {},
   "source": [
    "# Select Numerical Input Features"
   ]
  },
  {
   "cell_type": "code",
   "execution_count": null,
   "id": "59fea13a",
   "metadata": {},
   "outputs": [],
   "source": [
    "from sklearn.linear_model import LogisticRegression\n",
    "from sklearn.metrics import accuracy_score"
   ]
  },
  {
   "cell_type": "markdown",
   "id": "3b1c78d1",
   "metadata": {},
   "source": [
    "**Diabetes Numerical Dataset**"
   ]
  },
  {
   "cell_type": "code",
   "execution_count": null,
   "id": "4fb5d6dd",
   "metadata": {},
   "outputs": [],
   "source": [
    "def load_data(filename):\n",
    "    df = read_csv(data_path + filename)\n",
    "    data = df.values\n",
    "    X = data[:, :-1]\n",
    "    y = data[:, -1]\n",
    "    return X,y"
   ]
  },
  {
   "cell_type": "code",
   "execution_count": null,
   "id": "086186b0",
   "metadata": {},
   "outputs": [],
   "source": [
    "X, y = load_data('pima-indians-diabetes.csv')"
   ]
  },
  {
   "cell_type": "code",
   "execution_count": null,
   "id": "528c2a17",
   "metadata": {},
   "outputs": [],
   "source": [
    "X_train, X_test, y_train, y_test = train_test_split(X, y, test_size=0.33, random_state=1)"
   ]
  },
  {
   "cell_type": "code",
   "execution_count": null,
   "id": "c114cd46",
   "metadata": {},
   "outputs": [],
   "source": [
    "print(X_train.shape, y_train.shape)"
   ]
  },
  {
   "cell_type": "code",
   "execution_count": null,
   "id": "397b51f9",
   "metadata": {},
   "outputs": [],
   "source": [
    "print(X_test.shape, y_test.shape)"
   ]
  },
  {
   "cell_type": "markdown",
   "id": "774388b3",
   "metadata": {},
   "source": [
    "**Model Built Using All Features**"
   ]
  },
  {
   "cell_type": "code",
   "execution_count": null,
   "id": "fcd4e249",
   "metadata": {},
   "outputs": [],
   "source": [
    "model = LogisticRegression(solver='liblinear')"
   ]
  },
  {
   "cell_type": "code",
   "execution_count": null,
   "id": "c28357e8",
   "metadata": {},
   "outputs": [],
   "source": [
    "model.fit(X_train, y_train)"
   ]
  },
  {
   "cell_type": "code",
   "execution_count": null,
   "id": "f06f9695",
   "metadata": {},
   "outputs": [],
   "source": [
    "yhat = model.predict(X_test)"
   ]
  },
  {
   "cell_type": "code",
   "execution_count": null,
   "id": "66fcb5ef",
   "metadata": {},
   "outputs": [],
   "source": [
    "accuracy = accuracy_score(y_test, yhat)"
   ]
  },
  {
   "cell_type": "code",
   "execution_count": null,
   "id": "d201865e",
   "metadata": {},
   "outputs": [],
   "source": [
    "print(f'Accuracy: {accuracy*100:.2f}')"
   ]
  },
  {
   "cell_type": "markdown",
   "id": "d592b920",
   "metadata": {},
   "source": [
    "## Numerical Feature Selection"
   ]
  },
  {
   "cell_type": "code",
   "execution_count": null,
   "id": "5301b7bb",
   "metadata": {},
   "outputs": [],
   "source": [
    "from sklearn.feature_selection import SelectKBest, f_classif"
   ]
  },
  {
   "cell_type": "markdown",
   "id": "bef60c7e",
   "metadata": {},
   "source": [
    "### ANOVA F-test Feature Selection"
   ]
  },
  {
   "cell_type": "code",
   "execution_count": null,
   "id": "853cb19b",
   "metadata": {},
   "outputs": [],
   "source": [
    "def select_features(X_train, y_train, X_test, k='all'):\n",
    "    fs = SelectKBest(score_func=f_classif, k=k)\n",
    "    fs.fit(X_train, y_train)\n",
    "    X_train_fs = fs.transform(X_train)\n",
    "    X_test_fs = fs.transform(X_test)\n",
    "    return X_train_fs, X_test_fs, fs"
   ]
  },
  {
   "cell_type": "code",
   "execution_count": null,
   "id": "110244e6",
   "metadata": {},
   "outputs": [],
   "source": [
    "X, y = load_data('pima-indians-diabetes.csv')"
   ]
  },
  {
   "cell_type": "code",
   "execution_count": null,
   "id": "9899234c",
   "metadata": {},
   "outputs": [],
   "source": [
    "X_train, X_test, y_train, y_test = train_test_split(X, y, test_size=0.33, random_state=1)"
   ]
  },
  {
   "cell_type": "code",
   "execution_count": null,
   "id": "f44ba3d2",
   "metadata": {},
   "outputs": [],
   "source": [
    "X_train_fs, X_test_fs, fs = select_features(X_train, y_train, X_test)"
   ]
  },
  {
   "cell_type": "code",
   "execution_count": null,
   "id": "61c852ab",
   "metadata": {},
   "outputs": [],
   "source": [
    "for i in range(len(fs.scores_)):\n",
    "    print(f'Feature {i}: {fs.scores_[i]: .3f}')"
   ]
  },
  {
   "cell_type": "code",
   "execution_count": null,
   "id": "e75c8b22",
   "metadata": {},
   "outputs": [],
   "source": [
    "pyplot.bar([i for i in range(len(fs.scores_))], fs.scores_)\n",
    "pyplot.show()"
   ]
  },
  {
   "cell_type": "markdown",
   "id": "7fa5f769",
   "metadata": {},
   "source": [
    "**Model Built Using ANOVA F-test Features**"
   ]
  },
  {
   "cell_type": "code",
   "execution_count": null,
   "id": "3bc4e821",
   "metadata": {},
   "outputs": [],
   "source": [
    "model = LogisticRegression(solver='liblinear')"
   ]
  },
  {
   "cell_type": "code",
   "execution_count": null,
   "id": "8d8f956d",
   "metadata": {},
   "outputs": [],
   "source": [
    "model.fit(X_train_fs, y_train)"
   ]
  },
  {
   "cell_type": "code",
   "execution_count": null,
   "id": "a67b7f3c",
   "metadata": {},
   "outputs": [],
   "source": [
    "yhat = model.predict(X_test_fs)"
   ]
  },
  {
   "cell_type": "code",
   "execution_count": null,
   "id": "0588b88a",
   "metadata": {},
   "outputs": [],
   "source": [
    "accuracy = accuracy_score(y_test, yhat)"
   ]
  },
  {
   "cell_type": "code",
   "execution_count": null,
   "id": "a020583f",
   "metadata": {},
   "outputs": [],
   "source": [
    "print(f'Accuracy: {accuracy*100:.3f}')"
   ]
  },
  {
   "cell_type": "markdown",
   "id": "34584e72",
   "metadata": {},
   "source": [
    "### Mutual Information Feature Selection"
   ]
  },
  {
   "cell_type": "code",
   "execution_count": null,
   "id": "56d5c163",
   "metadata": {},
   "outputs": [],
   "source": [
    "from sklearn.feature_selection import SelectKBest, mutual_info_classif"
   ]
  },
  {
   "cell_type": "code",
   "execution_count": null,
   "id": "e7790985",
   "metadata": {},
   "outputs": [],
   "source": [
    "def select_features(X_train, y_tarin, X_test, k='all'):\n",
    "    fs = SelectKBest(score_func=mutual_info_classif, k=k)\n",
    "    fs.fit(X_train, y_train)\n",
    "    X_train_fs = fs.transform(X_train)\n",
    "    X_test_fs = fs.transform(X_test)\n",
    "    return X_train_fs, X_test_fs, fs"
   ]
  },
  {
   "cell_type": "code",
   "execution_count": null,
   "id": "3edfe047",
   "metadata": {},
   "outputs": [],
   "source": []
  },
  {
   "cell_type": "markdown",
   "id": "382d8cc1",
   "metadata": {},
   "source": [
    "# Select Features for Numerical Output"
   ]
  },
  {
   "cell_type": "markdown",
   "id": "56fc116c",
   "metadata": {},
   "source": [
    "Perhaps the simplest case of feature selection is the case where there are numerical input variables and a numerical target for regression predictive modeling.\n",
    "\n",
    "In this tutorial, you will discover how to perform feature selection with numerical input data for regression predictive modeling."
   ]
  },
  {
   "cell_type": "code",
   "execution_count": null,
   "id": "9470dbcc",
   "metadata": {},
   "outputs": [],
   "source": [
    "from sklearn.datasets import make_regression\n",
    "from sklearn.model_selection import train_test_split\n",
    "from sklearn.linear_model import LinearRegression\n",
    "from sklearn.metrics import mean_absolute_error\n",
    "from sklearn.feature_selection import SelectKBest, f_regression"
   ]
  },
  {
   "cell_type": "markdown",
   "id": "21de47cb",
   "metadata": {},
   "source": [
    "**Model Built Using All Features**"
   ]
  },
  {
   "cell_type": "code",
   "execution_count": null,
   "id": "7ea8ec42",
   "metadata": {},
   "outputs": [],
   "source": [
    "X, y = make_regression(n_samples=1000, n_features=100, n_informative=10, noise=0.1, random_state=1)"
   ]
  },
  {
   "cell_type": "code",
   "execution_count": null,
   "id": "21caf675",
   "metadata": {},
   "outputs": [],
   "source": [
    "X_train, X_test, y_train, y_test = train_test_split(X, y, test_size=0.33, random_state=1)"
   ]
  },
  {
   "cell_type": "code",
   "execution_count": null,
   "id": "1158489b",
   "metadata": {},
   "outputs": [],
   "source": [
    "model = LinearRegression()"
   ]
  },
  {
   "cell_type": "code",
   "execution_count": null,
   "id": "2c769680",
   "metadata": {},
   "outputs": [],
   "source": [
    "model.fit(X_train, y_train)"
   ]
  },
  {
   "cell_type": "code",
   "execution_count": null,
   "id": "7055f88d",
   "metadata": {},
   "outputs": [],
   "source": [
    "yhat = model.predict(X_test)"
   ]
  },
  {
   "cell_type": "code",
   "execution_count": null,
   "id": "a01370c9",
   "metadata": {},
   "outputs": [],
   "source": [
    "mae = mean_absolute_error(y_test, yhat)"
   ]
  },
  {
   "cell_type": "code",
   "execution_count": null,
   "id": "c8660023",
   "metadata": {},
   "outputs": [],
   "source": [
    "print(f'MAE:{mae:0.3f}')"
   ]
  },
  {
   "cell_type": "markdown",
   "id": "f19eff3d",
   "metadata": {},
   "source": [
    "**Model Built Using Correlation Features**"
   ]
  },
  {
   "cell_type": "code",
   "execution_count": null,
   "id": "b204e4c1",
   "metadata": {},
   "outputs": [],
   "source": [
    "def select_features(X_train, y_train, X_test):\n",
    "    fs = SelectKBest(score_func=f_regression, k=88)\n",
    "    fs.fit(X_train, y_train)\n",
    "    X_train_fs = fs.transform(X_train)\n",
    "    X_test_fs = fs.transform(X_test)\n",
    "    return X_train_fs, X_test_fs, fs"
   ]
  },
  {
   "cell_type": "code",
   "execution_count": null,
   "id": "0f6b5e0d",
   "metadata": {},
   "outputs": [],
   "source": [
    "X, y = make_regression(n_samples=1000, n_features=100, n_informative=10, noise=0.1, random_state=1)"
   ]
  },
  {
   "cell_type": "code",
   "execution_count": null,
   "id": "6f18795b",
   "metadata": {},
   "outputs": [],
   "source": [
    "X_train, X_test, y_train, y_test = train_test_split(X, y, test_size=0.33, random_state=1)"
   ]
  },
  {
   "cell_type": "code",
   "execution_count": null,
   "id": "36912ffa",
   "metadata": {},
   "outputs": [],
   "source": [
    "X_train_fs, X_test_fs, fs = select_features(X_train, y_train, X_test)"
   ]
  },
  {
   "cell_type": "code",
   "execution_count": null,
   "id": "9f21f7f5",
   "metadata": {},
   "outputs": [],
   "source": [
    "model = LinearRegression()"
   ]
  },
  {
   "cell_type": "code",
   "execution_count": null,
   "id": "935116b0",
   "metadata": {},
   "outputs": [],
   "source": [
    "model.fit(X_train_fs, y_train)"
   ]
  },
  {
   "cell_type": "code",
   "execution_count": null,
   "id": "6f2a3218",
   "metadata": {},
   "outputs": [],
   "source": [
    "yhat = model.predict(X_test_fs)"
   ]
  },
  {
   "cell_type": "code",
   "execution_count": null,
   "id": "c41548c6",
   "metadata": {},
   "outputs": [],
   "source": [
    "mae = mean_absolute_error(y_test, yhat)"
   ]
  },
  {
   "cell_type": "code",
   "execution_count": null,
   "id": "0708d56a",
   "metadata": {},
   "outputs": [],
   "source": [
    "print(f'MAE: {mae:0.3f}')"
   ]
  },
  {
   "cell_type": "markdown",
   "id": "73b7a84a",
   "metadata": {},
   "source": [
    "**Model Built Using Mutual Information Features**"
   ]
  },
  {
   "cell_type": "code",
   "execution_count": null,
   "id": "f78c1933",
   "metadata": {},
   "outputs": [],
   "source": [
    "from sklearn.feature_selection import mutual_info_regression"
   ]
  },
  {
   "cell_type": "code",
   "execution_count": null,
   "id": "870e43f9",
   "metadata": {},
   "outputs": [],
   "source": [
    "def select_features(X_train, y_train, X_test):\n",
    "    fs = SelectKBest(score_func=mutual_info_regression, k=88)\n",
    "    fs.fit(X_train, y_train)\n",
    "    X_train_fs = fs.transform(X_train)\n",
    "    X_test_fs = fs.transform(X_test)\n",
    "    return X_train_fs, X_test_fs, fs"
   ]
  },
  {
   "cell_type": "code",
   "execution_count": null,
   "id": "61897253",
   "metadata": {},
   "outputs": [],
   "source": [
    "X, y = make_regression(n_samples=1000, n_features=100, n_informative=10, noise=0.1, random_state=1)"
   ]
  },
  {
   "cell_type": "code",
   "execution_count": null,
   "id": "dcda667a",
   "metadata": {},
   "outputs": [],
   "source": [
    "X_train, X_test, y_train, y_test = train_test_split(X, y, test_size=0.33, random_state=1)"
   ]
  },
  {
   "cell_type": "code",
   "execution_count": null,
   "id": "603d199c",
   "metadata": {},
   "outputs": [],
   "source": [
    "x_train_fs, X_test_fs, fs = select_features(X_train, y_train, X_test)"
   ]
  },
  {
   "cell_type": "code",
   "execution_count": null,
   "id": "f93a07aa",
   "metadata": {},
   "outputs": [],
   "source": [
    "model = LinearRegression()"
   ]
  },
  {
   "cell_type": "code",
   "execution_count": null,
   "id": "91ce8911",
   "metadata": {},
   "outputs": [],
   "source": [
    "model.fit(X_train_fs, y_train)"
   ]
  },
  {
   "cell_type": "code",
   "execution_count": null,
   "id": "1751786d",
   "metadata": {},
   "outputs": [],
   "source": [
    "yhat = model.predict(X_test_fs)"
   ]
  },
  {
   "cell_type": "code",
   "execution_count": null,
   "id": "c9e88645",
   "metadata": {},
   "outputs": [],
   "source": [
    "mae = mean_absolute_error(y_test, yhat)"
   ]
  },
  {
   "cell_type": "code",
   "execution_count": null,
   "id": "b746d682",
   "metadata": {},
   "outputs": [],
   "source": [
    "print(f'MAE: {mae:0.3f}')"
   ]
  },
  {
   "cell_type": "markdown",
   "id": "6e1359e9",
   "metadata": {},
   "source": [
    "**Tune the Number of Selected Features**"
   ]
  },
  {
   "cell_type": "code",
   "execution_count": null,
   "id": "f7a09e60",
   "metadata": {},
   "outputs": [],
   "source": [
    "from numpy import mean, std\n",
    "from sklearn.pipeline import Pipeline\n",
    "from sklearn.model_selection import RepeatedKFold, cross_val_score\n",
    "from matplotlib import pyplot"
   ]
  },
  {
   "cell_type": "code",
   "execution_count": null,
   "id": "7eef6a04",
   "metadata": {},
   "outputs": [],
   "source": [
    "X, y = make_regression(n_samples=1000, n_features=100, n_informative=10, noise=0.1, random_state=1)"
   ]
  },
  {
   "cell_type": "code",
   "execution_count": null,
   "id": "696b1e56",
   "metadata": {},
   "outputs": [],
   "source": [
    "num_features = [i for i in range(X.shape[1]-19, X.shape[1]+1)]"
   ]
  },
  {
   "cell_type": "code",
   "execution_count": null,
   "id": "1f069556",
   "metadata": {},
   "outputs": [],
   "source": [
    "results = list()"
   ]
  },
  {
   "cell_type": "code",
   "execution_count": null,
   "id": "41afbf27",
   "metadata": {},
   "outputs": [],
   "source": [
    "for k in num_features:\n",
    "    model = LinearRegression()\n",
    "    fs = SelectKBest(score_func=mutual_info_regression, k=k)\n",
    "    pipeline = Pipeline(steps=[('sel', fs), ('lr', model)])\n",
    "    cv = RepeatedKFold(n_splits=10, n_repeats=3, random_state=1)\n",
    "    scores = cross_val_score(pipeline, X, y, scoring='neg_mean_absolute_error', cv=cv)\n",
    "    results.append(scores)\n",
    "    print(f'{k:} {mean(scores):0.3f}   {std(scores):0.3f}')"
   ]
  },
  {
   "cell_type": "code",
   "execution_count": null,
   "id": "661a6ec0",
   "metadata": {},
   "outputs": [],
   "source": [
    "py"
   ]
  },
  {
   "cell_type": "code",
   "execution_count": null,
   "id": "bdfab15d",
   "metadata": {},
   "outputs": [],
   "source": []
  },
  {
   "cell_type": "code",
   "execution_count": null,
   "id": "b536ad01",
   "metadata": {},
   "outputs": [],
   "source": []
  },
  {
   "cell_type": "code",
   "execution_count": null,
   "id": "e7b980f1",
   "metadata": {},
   "outputs": [],
   "source": []
  },
  {
   "cell_type": "markdown",
   "id": "32315fe0",
   "metadata": {},
   "source": [
    "# How to Use RFE for Feature Selection"
   ]
  },
  {
   "cell_type": "code",
   "execution_count": null,
   "id": "89f51eba",
   "metadata": {},
   "outputs": [],
   "source": []
  },
  {
   "cell_type": "code",
   "execution_count": null,
   "id": "5e960ea4",
   "metadata": {},
   "outputs": [],
   "source": []
  },
  {
   "cell_type": "markdown",
   "id": "523e520f",
   "metadata": {},
   "source": [
    "# How to Use Feature Importance"
   ]
  },
  {
   "cell_type": "code",
   "execution_count": null,
   "id": "3a7056b5",
   "metadata": {},
   "outputs": [],
   "source": []
  },
  {
   "cell_type": "code",
   "execution_count": null,
   "id": "8a05f8ce",
   "metadata": {},
   "outputs": [],
   "source": []
  }
 ],
 "metadata": {
  "kernelspec": {
   "display_name": "Python 3 (ipykernel)",
   "language": "python",
   "name": "python3"
  }
 },
 "nbformat": 4,
 "nbformat_minor": 5
}

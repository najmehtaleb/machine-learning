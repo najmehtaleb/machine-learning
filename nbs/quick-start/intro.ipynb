{
 "cells": [
  {
   "cell_type": "markdown",
   "id": "65e2431d",
   "metadata": {},
   "source": [
    "# Introduction"
   ]
  },
  {
   "cell_type": "markdown",
   "id": "db65ac64",
   "metadata": {},
   "source": [
    "This book focuses on a specific sub-field of machine learning called predictive modeling. This is\n",
    "the field of machine learning that is the most useful in industry and the type of machine learning\n",
    "that the scikit-learn library in Python excels at facilitating. Unlike statistics, where models are\n",
    "used to understand data, predictive modeling is laser focused on developing models that make\n",
    "the most accurate predictions at the expense of explaining why predictions are made. Unlike the\n",
    "broader field of machine learning that could feasibly be used with data in any format, predictive\n",
    "modeling is primarily focused on tabular data (e.g. tables of numbers like in a spreadsheet)."
   ]
  },
  {
   "cell_type": "markdown",
   "id": "40320c31",
   "metadata": {},
   "source": [
    "A predictive modeling machine\n",
    "learning project can be broken down into 6 top-level tasks:\n",
    "1. Define Problem: Investigate and characterize the problem in order to better understand\n",
    "the goals of the project.\n",
    "2. Analyze Data: Use descriptive statistics and visualization to better understand the data\n",
    "you have available.\n",
    "3. Prepare Data: Use data transforms in order to better expose the structure of the\n",
    "prediction problem to modeling algorithms.\n",
    "4. Evaluate Algorithms: Design a test harness to evaluate a number of standard algorithms\n",
    "on the data and select the top few to investigate further.\n",
    "5. Improve Results: Use algorithm tuning and ensemble methods to get the most out of\n",
    "well-performing algorithms on your data.\n",
    "6. Present Results: Finalize the model, make predictions and present results."
   ]
  },
  {
   "cell_type": "markdown",
   "id": "2fa7f5b3",
   "metadata": {},
   "source": [
    "You need to piece the recipes together into end-to-end projects. This will show you how to\n",
    "actually deliver a model or make predictions on new data using Python. This book uses small\n",
    "well-understood machine learning datasets from the UCI Machine learning repository 1 in both\n",
    "the lessons and in the example projects. These datasets are available for free as CSV downloads.\n",
    "These datasets are excellent for practicing applied machine learning because:\n",
    "* They are small, meaning they fit into memory and algorithms can model them in\n",
    "reasonable time.\n",
    "* They are well behaved, meaning you often don’t need to do a lot of feature engineering\n",
    "to get a good result.\n",
    "* They are benchmarks, meaning that many people have used them before and you can\n",
    "get ideas of good algorithms to try and accuracy levels you should expect."
   ]
  },
  {
   "cell_type": "markdown",
   "id": "bcb77a13",
   "metadata": {},
   "source": [
    "In Part III you will work through three projects:\n",
    "\n",
    "Hello World Project (Iris flowers dataset) : This is a quick pass through the project steps without much tuning or optimizing on a dataset that is widely used as the hello world of machine learning.\n",
    "\n",
    "Regression (Boston House Price dataset) : Work through each step of the project process\n",
    "with a regression problem.\n",
    "\n",
    "Binary Classification (Sonar dataset) : Work through each step of the project process\n",
    "using all of the methods on a binary classification problem."
   ]
  },
  {
   "cell_type": "markdown",
   "id": "f5df3471",
   "metadata": {},
   "source": [
    "**Python ecosystem for machine learning**"
   ]
  },
  {
   "cell_type": "markdown",
   "id": "087b6758",
   "metadata": {},
   "source": [
    "1. Python and its rising use for machine learning.\n",
    "2. SciPy and the functionality it provides with NumPy, Matplotlib and Pandas.\n",
    "3. scikit-learn that provides all of the machine learning algorithms."
   ]
  },
  {
   "cell_type": "markdown",
   "id": "1ac15706",
   "metadata": {},
   "source": [
    "**Python**\n",
    "\n",
    "Python is a general purpose interpreted programming language. It is easy to learn and use primarily because the language focuses on readability.\n",
    "\n",
    "It is a popular language in general, consistently appearing in the top 10 programming\n",
    "languages in surveys on StackOverflow 1 . It’s a dynamic language and very suited to interactive development and quick prototyping with the power to support the development of large applications. It is also widely used for machine learning and data science because of the excellent library support and because it is a general purpose programming language (unlike R or Matlab)."
   ]
  },
  {
   "cell_type": "markdown",
   "id": "10188301",
   "metadata": {},
   "source": [
    "**SciPy**\n",
    "\n",
    "SciPy is an ecosystem of Python libraries for mathematics, science and engineering. It is an\n",
    "add-on to Python that you will need for machine learning. The SciPy ecosystem is comprised of\n",
    "the following core modules relevant to machine learning:\n",
    " NumPy: A foundation for SciPy that allows you to efficiently work with data in arrays.\n",
    " Matplotlib: Allows you to create 2D charts and plots from data.\n",
    " Pandas: Tools and data structures to organize and analyze your data.\n",
    "\n",
    "To be effective at machine learning in Python you must install and become familiar with\n",
    "SciPy. Specifically:\n",
    " You will prepare your data as NumPy arrays for modeling in machine learning algorithms.\n",
    " You will use Matplotlib (and wrappers of Matplotlib in other frameworks) to create plots\n",
    "and charts of your data.\n",
    " You will use Pandas to load, explore, and better understand your data."
   ]
  },
  {
   "cell_type": "markdown",
   "id": "786e55c1",
   "metadata": {},
   "source": [
    "**scikit-learn**\n",
    "\n",
    "The scikit-learn library is how you can develop and practice machine learning in Python. It is\n",
    "built upon and requires the SciPy ecosystem. The name scikit suggests that it is a SciPy plug-in\n",
    "or toolkit. The focus of the library is machine learning algorithms for classification, regression,\n",
    "clustering and more. It also provides tools for related tasks such as evaluating models, tuning\n",
    "parameters and pre-processing data."
   ]
  },
  {
   "cell_type": "code",
   "execution_count": null,
   "id": "05585a56",
   "metadata": {},
   "outputs": [],
   "source": []
  },
  {
   "cell_type": "code",
   "execution_count": null,
   "id": "9fa35c7a",
   "metadata": {},
   "outputs": [],
   "source": []
  },
  {
   "cell_type": "code",
   "execution_count": null,
   "id": "50b05b00",
   "metadata": {},
   "outputs": [],
   "source": []
  },
  {
   "cell_type": "markdown",
   "id": "67c340ea",
   "metadata": {},
   "source": [
    "# Analyze Data"
   ]
  },
  {
   "cell_type": "code",
   "execution_count": null,
   "id": "abea79fb",
   "metadata": {},
   "outputs": [],
   "source": []
  },
  {
   "cell_type": "code",
   "execution_count": null,
   "id": "3b0cf8ff",
   "metadata": {},
   "outputs": [],
   "source": []
  },
  {
   "cell_type": "markdown",
   "id": "d3b276de",
   "metadata": {},
   "source": [
    "# Prepare Data"
   ]
  },
  {
   "cell_type": "code",
   "execution_count": null,
   "id": "2c7feea3",
   "metadata": {},
   "outputs": [],
   "source": []
  },
  {
   "cell_type": "code",
   "execution_count": null,
   "id": "78d0cabd",
   "metadata": {},
   "outputs": [],
   "source": []
  },
  {
   "cell_type": "code",
   "execution_count": null,
   "id": "efb5576d",
   "metadata": {},
   "outputs": [],
   "source": []
  },
  {
   "cell_type": "markdown",
   "id": "95a1ca5b",
   "metadata": {},
   "source": [
    "# Evaluate Algorithms"
   ]
  },
  {
   "cell_type": "code",
   "execution_count": null,
   "id": "c0b299ed",
   "metadata": {},
   "outputs": [],
   "source": []
  },
  {
   "cell_type": "code",
   "execution_count": null,
   "id": "2df6e100",
   "metadata": {},
   "outputs": [],
   "source": []
  },
  {
   "cell_type": "code",
   "execution_count": null,
   "id": "ff5db3c4",
   "metadata": {},
   "outputs": [],
   "source": []
  },
  {
   "cell_type": "markdown",
   "id": "c0765b94",
   "metadata": {},
   "source": [
    "# Improve Results"
   ]
  },
  {
   "cell_type": "code",
   "execution_count": null,
   "id": "bf81ce9b",
   "metadata": {},
   "outputs": [],
   "source": []
  },
  {
   "cell_type": "code",
   "execution_count": null,
   "id": "f67ebf54",
   "metadata": {},
   "outputs": [],
   "source": []
  },
  {
   "cell_type": "code",
   "execution_count": null,
   "id": "9ac83bfb",
   "metadata": {},
   "outputs": [],
   "source": []
  },
  {
   "cell_type": "markdown",
   "id": "f99e5551",
   "metadata": {},
   "source": [
    "# Present Results"
   ]
  },
  {
   "cell_type": "code",
   "execution_count": null,
   "id": "262fd37d",
   "metadata": {},
   "outputs": [],
   "source": []
  },
  {
   "cell_type": "code",
   "execution_count": null,
   "id": "f36fd9bc",
   "metadata": {},
   "outputs": [],
   "source": []
  },
  {
   "cell_type": "code",
   "execution_count": null,
   "id": "e1e31e26",
   "metadata": {},
   "outputs": [],
   "source": []
  },
  {
   "cell_type": "code",
   "execution_count": null,
   "id": "ab95348d",
   "metadata": {},
   "outputs": [],
   "source": []
  },
  {
   "cell_type": "code",
   "execution_count": null,
   "id": "a5dd7dfc",
   "metadata": {},
   "outputs": [],
   "source": []
  }
 ],
 "metadata": {
  "kernelspec": {
   "display_name": "Python 3 (ipykernel)",
   "language": "python",
   "name": "python3"
  }
 },
 "nbformat": 4,
 "nbformat_minor": 5
}

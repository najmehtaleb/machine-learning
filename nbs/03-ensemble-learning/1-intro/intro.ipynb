{
 "cells": [
  {
   "cell_type": "markdown",
   "id": "69a6a3a7",
   "metadata": {},
   "source": [
    "# Introduction"
   ]
  },
  {
   "cell_type": "markdown",
   "id": "93d54508",
   "metadata": {},
   "source": [
    "Ensemble learning algorithms are\n",
    "those techniques that combine the predictions of two or more machine learning algorithms with\n",
    "the goal of improving predictive skill. Ensemble learning algorithms are a more advanced subfield\n",
    "of machine learning, often turned to on machine learning projects when predictive performance\n",
    "is the most important objective. As such, ensembles are widely used by top participants and\n",
    "winners of competitive machine learning competitions."
   ]
  },
  {
   "cell_type": "markdown",
   "id": "397e22db",
   "metadata": {},
   "source": [
    "## What is Ensemble Learning"
   ]
  },
  {
   "cell_type": "markdown",
   "id": "4f7ac54b",
   "metadata": {},
   "source": [
    "Many decisions we make in life are based on the opinions of multiple other people. This includes\n",
    "choosing a book to read based on reviews, choosing a course of action based on the advice\n",
    "of multiple medical doctors, and determining guilt. Often, decision making by a group of\n",
    "individuals results in a better outcome than a decision made by any one member of the group.\n",
    "This is generally referred to as the wisdom of the crowd. We can achieve a similar result by\n",
    "combining the predictions of multiple machine learning models for regression and classification\n",
    "predictive modeling problems."
   ]
  },
  {
   "cell_type": "markdown",
   "id": "8e3a18d8",
   "metadata": {},
   "source": [
    "Applied machine learning often involves fitting and evaluating models on a dataset. Given that\n",
    "we cannot know which model will perform best on the dataset beforehand, this may involve\n",
    "a lot of trial and error until we find a model that performs well or best for our project. This\n",
    "is akin to making a decision using a single expert. Perhaps the best expert we can find. A\n",
    "complementary approach is to prepare multiple different models, then combine their predictions.\n",
    "This is called an ensemble machine learning model, or simply an ensemble, and the process of\n",
    "finding a well-performing ensemble model is referred to as ensemble learning."
   ]
  },
  {
   "cell_type": "code",
   "execution_count": null,
   "id": "9f58ae2c",
   "metadata": {},
   "outputs": [],
   "source": []
  },
  {
   "cell_type": "code",
   "execution_count": null,
   "id": "32310091",
   "metadata": {},
   "outputs": [],
   "source": []
  }
 ],
 "metadata": {
  "kernelspec": {
   "display_name": "Python 3 (ipykernel)",
   "language": "python",
   "name": "python3"
  }
 },
 "nbformat": 4,
 "nbformat_minor": 5
}

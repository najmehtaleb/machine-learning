{
 "cells": [
  {
   "cell_type": "markdown",
   "id": "f0338870",
   "metadata": {},
   "source": [
    "# One-vs-Rest and One-vs-One Models"
   ]
  },
  {
   "cell_type": "code",
   "execution_count": null,
   "id": "7896e87d",
   "metadata": {},
   "outputs": [],
   "source": []
  }
 ],
 "metadata": {
  "kernelspec": {
   "display_name": "Python 3 (ipykernel)",
   "language": "python",
   "name": "python3"
  }
 },
 "nbformat": 4,
 "nbformat_minor": 5
}

{
 "cells": [
  {
   "cell_type": "markdown",
   "id": "65e2431d",
   "metadata": {},
   "source": [
    "# Introduction"
   ]
  },
  {
   "cell_type": "markdown",
   "id": "db65ac64",
   "metadata": {},
   "source": [
    "This book focuses on a specific sub-field of machine learning called predictive modeling. This is\n",
    "the field of machine learning that is the most useful in industry and the type of machine learning\n",
    "that the scikit-learn library in Python excels at facilitating. Unlike statistics, where models are\n",
    "used to understand data, predictive modeling is laser focused on developing models that make\n",
    "the most accurate predictions at the expense of explaining why predictions are made. Unlike the\n",
    "broader field of machine learning that could feasibly be used with data in any format, predictive\n",
    "modeling is primarily focused on tabular data (e.g. tables of numbers like in a spreadsheet)."
   ]
  },
  {
   "cell_type": "markdown",
   "id": "40320c31",
   "metadata": {},
   "source": [
    "A predictive modeling machine\n",
    "learning project can be broken down into 6 top-level tasks:\n",
    "1. Define Problem: Investigate and characterize the problem in order to better understand\n",
    "the goals of the project.\n",
    "2. Analyze Data: Use descriptive statistics and visualization to better understand the data\n",
    "you have available.\n",
    "3. Prepare Data: Use data transforms in order to better expose the structure of the\n",
    "prediction problem to modeling algorithms.\n",
    "4. Evaluate Algorithms: Design a test harness to evaluate a number of standard algorithms\n",
    "on the data and select the top few to investigate further.\n",
    "5. Improve Results: Use algorithm tuning and ensemble methods to get the most out of\n",
    "well-performing algorithms on your data.\n",
    "6. Present Results: Finalize the model, make predictions and present results."
   ]
  },
  {
   "cell_type": "markdown",
   "id": "2fa7f5b3",
   "metadata": {},
   "source": [
    "You need to piece the recipes together into end-to-end projects. This will show you how to\n",
    "actually deliver a model or make predictions on new data using Python. This book uses small\n",
    "well-understood machine learning datasets from the UCI Machine learning repository 1 in both\n",
    "the lessons and in the example projects. These datasets are available for free as CSV downloads.\n",
    "These datasets are excellent for practicing applied machine learning because:\n",
    "* They are small, meaning they fit into memory and algorithms can model them in\n",
    "reasonable time.\n",
    "* They are well behaved, meaning you often don’t need to do a lot of feature engineering\n",
    "to get a good result.\n",
    "* They are benchmarks, meaning that many people have used them before and you can\n",
    "get ideas of good algorithms to try and accuracy levels you should expect."
   ]
  },
  {
   "cell_type": "markdown",
   "id": "bcb77a13",
   "metadata": {},
   "source": [
    "In Part III you will work through three projects:\n",
    "\n",
    "Hello World Project (Iris flowers dataset) : This is a quick pass through the project steps without much tuning or optimizing on a dataset that is widely used as the hello world of machine learning.\n",
    "\n",
    "Regression (Boston House Price dataset) : Work through each step of the project process\n",
    "with a regression problem.\n",
    "\n",
    "Binary Classification (Sonar dataset) : Work through each step of the project process\n",
    "using all of the methods on a binary classification problem."
   ]
  },
  {
   "cell_type": "code",
   "execution_count": null,
   "id": "5cfcecfb",
   "metadata": {},
   "outputs": [],
   "source": []
  },
  {
   "cell_type": "code",
   "execution_count": null,
   "id": "7964d232",
   "metadata": {},
   "outputs": [],
   "source": []
  },
  {
   "cell_type": "code",
   "execution_count": null,
   "id": "feda7aa3",
   "metadata": {},
   "outputs": [],
   "source": []
  },
  {
   "cell_type": "code",
   "execution_count": null,
   "id": "8fc2bfe3",
   "metadata": {},
   "outputs": [],
   "source": []
  },
  {
   "cell_type": "code",
   "execution_count": null,
   "id": "efb5576d",
   "metadata": {},
   "outputs": [],
   "source": []
  },
  {
   "cell_type": "code",
   "execution_count": null,
   "id": "f67ebf54",
   "metadata": {},
   "outputs": [],
   "source": []
  },
  {
   "cell_type": "code",
   "execution_count": null,
   "id": "9ac83bfb",
   "metadata": {},
   "outputs": [],
   "source": []
  },
  {
   "cell_type": "code",
   "execution_count": null,
   "id": "f36fd9bc",
   "metadata": {},
   "outputs": [],
   "source": []
  },
  {
   "cell_type": "code",
   "execution_count": null,
   "id": "e1e31e26",
   "metadata": {},
   "outputs": [],
   "source": []
  },
  {
   "cell_type": "code",
   "execution_count": null,
   "id": "ab95348d",
   "metadata": {},
   "outputs": [],
   "source": []
  },
  {
   "cell_type": "code",
   "execution_count": null,
   "id": "a5dd7dfc",
   "metadata": {},
   "outputs": [],
   "source": []
  }
 ],
 "metadata": {
  "kernelspec": {
   "display_name": "Python 3 (ipykernel)",
   "language": "python",
   "name": "python3"
  }
 },
 "nbformat": 4,
 "nbformat_minor": 5
}

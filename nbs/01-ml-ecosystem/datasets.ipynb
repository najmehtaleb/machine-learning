{
 "cells": [
  {
   "cell_type": "markdown",
   "id": "0b16af2f",
   "metadata": {},
   "source": [
    "**Datasets**"
   ]
  },
  {
   "cell_type": "markdown",
   "id": "09f8b647",
   "metadata": {},
   "source": [
    "Iris Flower Dataset\n",
    "\n",
    "https://www.kaggle.com/datasets/arshid/iris-flower-dataset"
   ]
  },
  {
   "cell_type": "markdown",
   "id": "e20a543e",
   "metadata": {},
   "source": [
    "Boston Housing Dataset\n",
    "\n",
    "https://www.kaggle.com/code/prasadperera/the-boston-housing-dataset/data"
   ]
  },
  {
   "cell_type": "markdown",
   "id": "d4f04177",
   "metadata": {},
   "source": [
    "Oil Spill Dataset\n",
    "\n",
    "https://www.kaggle.com/datasets/ashrafkhan94/oil-spill?select=oil-spill.csv"
   ]
  },
  {
   "cell_type": "markdown",
   "id": "d2a24591",
   "metadata": {},
   "source": [
    "Horse Colic Dataset\n",
    "\n",
    "https://raw.githubusercontent.com/jbrownlee/Datasets/master/horse-colic.csv\n",
    "\n",
    "https://www.kaggle.com/datasets/uciml/horse-colic"
   ]
  },
  {
   "cell_type": "markdown",
   "id": "015ab368",
   "metadata": {},
   "source": [
    "Breast Cancer Categorical Dataset\n",
    "\n",
    "https://raw.githubusercontent.com/jbrownlee/Datasets/master/breast-cancer.csv"
   ]
  },
  {
   "cell_type": "markdown",
   "id": "40097546",
   "metadata": {},
   "source": [
    "Pima Indians Dataset"
   ]
  },
  {
   "cell_type": "markdown",
   "id": "40deff06",
   "metadata": {},
   "source": [
    "The Pima Indians dataset is used to demonstrate data loading in this lesson. It will also be used in many of the lessons to come. This dataset describes the medical records for Pima Indians and whether or not each patient will have an onset of diabetes within five years. As such it is a classification problem. It is a good dataset for demonstration because all of the input attributes are numeric and the output variable to be predicted is binary (0 or 1)."
   ]
  },
  {
   "cell_type": "code",
   "execution_count": null,
   "id": "0fa59c48",
   "metadata": {},
   "outputs": [],
   "source": []
  }
 ],
 "metadata": {
  "kernelspec": {
   "display_name": "Python 3 (ipykernel)",
   "language": "python",
   "name": "python3"
  }
 },
 "nbformat": 4,
 "nbformat_minor": 5
}

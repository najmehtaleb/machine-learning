{
 "cells": [
  {
   "cell_type": "markdown",
   "id": "0b16af2f",
   "metadata": {},
   "source": [
    "**Datasets**"
   ]
  },
  {
   "cell_type": "markdown",
   "id": "09f8b647",
   "metadata": {},
   "source": [
    "Iris Flower Dataset\n",
    "\n",
    "https://www.kaggle.com/datasets/arshid/iris-flower-dataset"
   ]
  },
  {
   "cell_type": "markdown",
   "id": "e20a543e",
   "metadata": {},
   "source": [
    "Boston Housing Dataset\n",
    "\n",
    "https://www.kaggle.com/code/prasadperera/the-boston-housing-dataset/data"
   ]
  },
  {
   "cell_type": "markdown",
   "id": "d4f04177",
   "metadata": {},
   "source": [
    "Oil Spill Dataset\n",
    "\n",
    "https://www.kaggle.com/datasets/ashrafkhan94/oil-spill?select=oil-spill.csv"
   ]
  },
  {
   "cell_type": "markdown",
   "id": "d2a24591",
   "metadata": {},
   "source": [
    "Horse Colic Dataset\n",
    "\n",
    "https://raw.githubusercontent.com/jbrownlee/Datasets/master/horse-colic.csv\n",
    "\n",
    "https://www.kaggle.com/datasets/uciml/horse-colic"
   ]
  },
  {
   "cell_type": "markdown",
   "id": "015ab368",
   "metadata": {},
   "source": [
    "Breast Cancer Categorical Dataset\n",
    "\n",
    "https://raw.githubusercontent.com/jbrownlee/Datasets/master/breast-cancer.csv"
   ]
  },
  {
   "cell_type": "code",
   "execution_count": null,
   "id": "c381d5a0",
   "metadata": {},
   "outputs": [],
   "source": []
  }
 ],
 "metadata": {
  "kernelspec": {
   "display_name": "Python 3 (ipykernel)",
   "language": "python",
   "name": "python3"
  }
 },
 "nbformat": 4,
 "nbformat_minor": 5
}

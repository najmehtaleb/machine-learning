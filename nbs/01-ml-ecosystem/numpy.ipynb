{
 "cells": [
  {
   "cell_type": "markdown",
   "id": "85b91100",
   "metadata": {},
   "source": [
    "# NumPy"
   ]
  },
  {
   "cell_type": "code",
   "execution_count": null,
   "id": "663dbcd2",
   "metadata": {},
   "outputs": [],
   "source": [
    "import numpy"
   ]
  },
  {
   "cell_type": "markdown",
   "id": "9aa7c23d",
   "metadata": {},
   "source": [
    "**Create Array**"
   ]
  },
  {
   "cell_type": "code",
   "execution_count": null,
   "id": "006df69d",
   "metadata": {},
   "outputs": [],
   "source": [
    "mylist = [1,2,3]"
   ]
  },
  {
   "cell_type": "code",
   "execution_count": null,
   "id": "8c5cd4b3",
   "metadata": {},
   "outputs": [],
   "source": [
    "myarray = numpy.array(mylist)"
   ]
  },
  {
   "cell_type": "code",
   "execution_count": null,
   "id": "9de1b65e",
   "metadata": {},
   "outputs": [
    {
     "name": "stdout",
     "output_type": "stream",
     "text": [
      "[1 2 3]\n"
     ]
    }
   ],
   "source": [
    "print(myarray)"
   ]
  },
  {
   "cell_type": "code",
   "execution_count": null,
   "id": "6c090aec",
   "metadata": {},
   "outputs": [
    {
     "name": "stdout",
     "output_type": "stream",
     "text": [
      "(3,)\n"
     ]
    }
   ],
   "source": [
    "print(myarray.shape)"
   ]
  },
  {
   "cell_type": "markdown",
   "id": "62c69664",
   "metadata": {},
   "source": [
    "**Access Data**"
   ]
  },
  {
   "cell_type": "code",
   "execution_count": null,
   "id": "0cc9e310",
   "metadata": {},
   "outputs": [],
   "source": [
    "mylist = [[1,2,3], [4,5,6]]"
   ]
  },
  {
   "cell_type": "code",
   "execution_count": null,
   "id": "b287a5d4",
   "metadata": {},
   "outputs": [],
   "source": [
    "myarray = numpy.array(mylist)"
   ]
  },
  {
   "cell_type": "code",
   "execution_count": null,
   "id": "d5b43953",
   "metadata": {},
   "outputs": [
    {
     "name": "stdout",
     "output_type": "stream",
     "text": [
      "[[1 2 3]\n",
      " [4 5 6]]\n"
     ]
    }
   ],
   "source": [
    "print(myarray)"
   ]
  },
  {
   "cell_type": "code",
   "execution_count": null,
   "id": "fe0382ea",
   "metadata": {},
   "outputs": [
    {
     "name": "stdout",
     "output_type": "stream",
     "text": [
      "(2, 3)\n"
     ]
    }
   ],
   "source": [
    "print(myarray.shape)"
   ]
  },
  {
   "cell_type": "code",
   "execution_count": null,
   "id": "7c049ef3",
   "metadata": {},
   "outputs": [
    {
     "name": "stdout",
     "output_type": "stream",
     "text": [
      "First row is: [1 2 3]\n"
     ]
    }
   ],
   "source": [
    "print(f'First row is: {myarray[0]}')"
   ]
  },
  {
   "cell_type": "code",
   "execution_count": null,
   "id": "fa02823a",
   "metadata": {},
   "outputs": [
    {
     "name": "stdout",
     "output_type": "stream",
     "text": [
      "Last row is: [4 5 6]\n"
     ]
    }
   ],
   "source": [
    "print(f'Last row is: {myarray[-1]}')"
   ]
  },
  {
   "cell_type": "code",
   "execution_count": null,
   "id": "9ee2dccc",
   "metadata": {},
   "outputs": [
    {
     "name": "stdout",
     "output_type": "stream",
     "text": [
      "An element at specific row 0 and col 2 is: 3\n"
     ]
    }
   ],
   "source": [
    "print(f'An element at specific row {0} and col {2} is: {myarray[0,2]}')"
   ]
  },
  {
   "cell_type": "code",
   "execution_count": null,
   "id": "f918b284",
   "metadata": {},
   "outputs": [
    {
     "name": "stdout",
     "output_type": "stream",
     "text": [
      "Whole col 2 is: [3 6]\n"
     ]
    }
   ],
   "source": [
    "print(f'Whole col {2} is: {myarray[:,2]}')"
   ]
  },
  {
   "cell_type": "markdown",
   "id": "c6e062b4",
   "metadata": {},
   "source": [
    "**Arithmetic**"
   ]
  },
  {
   "cell_type": "code",
   "execution_count": null,
   "id": "03ca2e19",
   "metadata": {},
   "outputs": [],
   "source": [
    "array1 = numpy.array([2,3,4])\n",
    "array2 = numpy.array([5,6,7])"
   ]
  },
  {
   "cell_type": "code",
   "execution_count": null,
   "id": "d2d818a1",
   "metadata": {},
   "outputs": [
    {
     "name": "stdout",
     "output_type": "stream",
     "text": [
      "Adding two arrays: [ 7  9 11]\n"
     ]
    }
   ],
   "source": [
    "print(f'Adding two arrays: {array1 + array2}')"
   ]
  },
  {
   "cell_type": "code",
   "execution_count": null,
   "id": "cb348bc5",
   "metadata": {},
   "outputs": [
    {
     "name": "stdout",
     "output_type": "stream",
     "text": [
      "Multiplying two arrays: [10 18 28]\n"
     ]
    }
   ],
   "source": [
    "print(f'Multiplying two arrays: {array1*array2}')"
   ]
  },
  {
   "cell_type": "code",
   "execution_count": null,
   "id": "e8fa3847",
   "metadata": {},
   "outputs": [],
   "source": []
  },
  {
   "cell_type": "code",
   "execution_count": null,
   "id": "a9fa11f0",
   "metadata": {},
   "outputs": [],
   "source": []
  },
  {
   "cell_type": "code",
   "execution_count": null,
   "id": "bf7aedd5",
   "metadata": {},
   "outputs": [],
   "source": []
  },
  {
   "cell_type": "code",
   "execution_count": null,
   "id": "16f3df3a",
   "metadata": {},
   "outputs": [],
   "source": []
  }
 ],
 "metadata": {
  "kernelspec": {
   "display_name": "Python 3 (ipykernel)",
   "language": "python",
   "name": "python3"
  }
 },
 "nbformat": 4,
 "nbformat_minor": 5
}

{
 "cells": [
  {
   "cell_type": "markdown",
   "id": "65e2431d",
   "metadata": {},
   "source": [
    "# Introduction"
   ]
  },
  {
   "cell_type": "markdown",
   "id": "f5df3471",
   "metadata": {},
   "source": [
    "**Python ecosystem for machine learning**"
   ]
  },
  {
   "cell_type": "markdown",
   "id": "087b6758",
   "metadata": {},
   "source": [
    "1. Python and its rising use for machine learning.\n",
    "2. SciPy and the functionality it provides with NumPy, Matplotlib and Pandas.\n",
    "3. scikit-learn that provides all of the machine learning algorithms."
   ]
  },
  {
   "cell_type": "markdown",
   "id": "1ac15706",
   "metadata": {},
   "source": [
    "**Python**\n",
    "\n",
    "Python is a general purpose interpreted programming language. It is easy to learn and use primarily because the language focuses on readability.\n",
    "\n",
    "It is a popular language in general, consistently appearing in the top 10 programming\n",
    "languages in surveys on StackOverflow 1 . It’s a dynamic language and very suited to interactive development and quick prototyping with the power to support the development of large applications. It is also widely used for machine learning and data science because of the excellent library support and because it is a general purpose programming language (unlike R or Matlab)."
   ]
  },
  {
   "cell_type": "markdown",
   "id": "10188301",
   "metadata": {},
   "source": [
    "**SciPy**\n",
    "\n",
    "SciPy is an ecosystem of Python libraries for mathematics, science and engineering. It is an\n",
    "add-on to Python that you will need for machine learning. The SciPy ecosystem is comprised of\n",
    "the following core modules relevant to machine learning:\n",
    " NumPy: A foundation for SciPy that allows you to efficiently work with data in arrays.\n",
    " Matplotlib: Allows you to create 2D charts and plots from data.\n",
    " Pandas: Tools and data structures to organize and analyze your data.\n",
    "\n",
    "To be effective at machine learning in Python you must install and become familiar with\n",
    "SciPy. Specifically:\n",
    " You will prepare your data as NumPy arrays for modeling in machine learning algorithms.\n",
    " You will use Matplotlib (and wrappers of Matplotlib in other frameworks) to create plots\n",
    "and charts of your data.\n",
    " You will use Pandas to load, explore, and better understand your data."
   ]
  },
  {
   "cell_type": "markdown",
   "id": "786e55c1",
   "metadata": {},
   "source": [
    "**scikit-learn**\n",
    "\n",
    "The scikit-learn library is how you can develop and practice machine learning in Python. It is\n",
    "built upon and requires the SciPy ecosystem. The name scikit suggests that it is a SciPy plug-in\n",
    "or toolkit. The focus of the library is machine learning algorithms for classification, regression,\n",
    "clustering and more. It also provides tools for related tasks such as evaluating models, tuning\n",
    "parameters and pre-processing data."
   ]
  },
  {
   "cell_type": "code",
   "execution_count": null,
   "id": "05585a56",
   "metadata": {},
   "outputs": [],
   "source": []
  },
  {
   "cell_type": "code",
   "execution_count": null,
   "id": "9fa35c7a",
   "metadata": {},
   "outputs": [],
   "source": []
  },
  {
   "cell_type": "code",
   "execution_count": null,
   "id": "50b05b00",
   "metadata": {},
   "outputs": [],
   "source": []
  },
  {
   "cell_type": "markdown",
   "id": "67c340ea",
   "metadata": {},
   "source": [
    "# Analyze Data"
   ]
  },
  {
   "cell_type": "markdown",
   "id": "45ee9926",
   "metadata": {},
   "source": [
    "ch 3, 4, 5"
   ]
  },
  {
   "cell_type": "code",
   "execution_count": null,
   "id": "abea79fb",
   "metadata": {},
   "outputs": [],
   "source": []
  },
  {
   "cell_type": "code",
   "execution_count": null,
   "id": "3b0cf8ff",
   "metadata": {},
   "outputs": [],
   "source": []
  },
  {
   "cell_type": "markdown",
   "id": "d3b276de",
   "metadata": {},
   "source": [
    "# Prepare Data"
   ]
  },
  {
   "cell_type": "markdown",
   "id": "2fae0194",
   "metadata": {},
   "source": [
    "ch 6, 7"
   ]
  },
  {
   "cell_type": "code",
   "execution_count": null,
   "id": "78d0cabd",
   "metadata": {},
   "outputs": [],
   "source": []
  },
  {
   "cell_type": "code",
   "execution_count": null,
   "id": "efb5576d",
   "metadata": {},
   "outputs": [],
   "source": []
  },
  {
   "cell_type": "markdown",
   "id": "95a1ca5b",
   "metadata": {},
   "source": [
    "# Evaluate Algorithms"
   ]
  },
  {
   "cell_type": "markdown",
   "id": "30601aa1",
   "metadata": {},
   "source": [
    "ch 8, 9, 10, 11, 12, 13"
   ]
  },
  {
   "cell_type": "code",
   "execution_count": null,
   "id": "2df6e100",
   "metadata": {},
   "outputs": [],
   "source": []
  },
  {
   "cell_type": "code",
   "execution_count": null,
   "id": "ff5db3c4",
   "metadata": {},
   "outputs": [],
   "source": []
  },
  {
   "cell_type": "markdown",
   "id": "c0765b94",
   "metadata": {},
   "source": [
    "# Improve Results"
   ]
  },
  {
   "cell_type": "markdown",
   "id": "a94f1272",
   "metadata": {},
   "source": [
    "ch 14, 15"
   ]
  },
  {
   "cell_type": "code",
   "execution_count": null,
   "id": "f67ebf54",
   "metadata": {},
   "outputs": [],
   "source": []
  },
  {
   "cell_type": "code",
   "execution_count": null,
   "id": "9ac83bfb",
   "metadata": {},
   "outputs": [],
   "source": []
  },
  {
   "cell_type": "markdown",
   "id": "f99e5551",
   "metadata": {},
   "source": [
    "# Present Results"
   ]
  },
  {
   "cell_type": "markdown",
   "id": "33500b71",
   "metadata": {},
   "source": [
    "ch 16, 17"
   ]
  },
  {
   "cell_type": "code",
   "execution_count": null,
   "id": "f36fd9bc",
   "metadata": {},
   "outputs": [],
   "source": []
  },
  {
   "cell_type": "code",
   "execution_count": null,
   "id": "e1e31e26",
   "metadata": {},
   "outputs": [],
   "source": []
  },
  {
   "cell_type": "code",
   "execution_count": null,
   "id": "ab95348d",
   "metadata": {},
   "outputs": [],
   "source": []
  },
  {
   "cell_type": "code",
   "execution_count": null,
   "id": "a5dd7dfc",
   "metadata": {},
   "outputs": [],
   "source": []
  }
 ],
 "metadata": {
  "kernelspec": {
   "display_name": "Python 3 (ipykernel)",
   "language": "python",
   "name": "python3"
  }
 },
 "nbformat": 4,
 "nbformat_minor": 5
}

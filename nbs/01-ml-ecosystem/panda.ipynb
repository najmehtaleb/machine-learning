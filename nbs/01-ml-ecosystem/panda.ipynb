{
 "cells": [
  {
   "cell_type": "markdown",
   "id": "bdee46d6",
   "metadata": {},
   "source": [
    "# Pandas"
   ]
  },
  {
   "cell_type": "markdown",
   "id": "0f88e868",
   "metadata": {},
   "source": [
    "Pandas provides data structures and functionality to quickly manipulate and analyze data. The\n",
    "key to understanding Pandas for machine learning is understanding the Series and DataFrame\n",
    "data structures."
   ]
  },
  {
   "cell_type": "code",
   "execution_count": null,
   "id": "8fc3f19a",
   "metadata": {},
   "outputs": [],
   "source": [
    "import numpy\n",
    "import pandas"
   ]
  },
  {
   "cell_type": "markdown",
   "id": "5ffed577",
   "metadata": {},
   "source": [
    "**Series**"
   ]
  },
  {
   "cell_type": "markdown",
   "id": "bd616bc9",
   "metadata": {},
   "source": [
    "A series is a one dimensional array of data where the rows are labeled using a time axis."
   ]
  },
  {
   "cell_type": "code",
   "execution_count": null,
   "id": "34aa2bb6",
   "metadata": {},
   "outputs": [],
   "source": [
    "myarray = numpy.array([1,2,3])\n",
    "rowname = ['a', 'b', 'c']"
   ]
  },
  {
   "cell_type": "code",
   "execution_count": null,
   "id": "8e84ac70",
   "metadata": {},
   "outputs": [],
   "source": [
    "myseries = pandas.Series(myarray, index=rowname)"
   ]
  },
  {
   "cell_type": "code",
   "execution_count": null,
   "id": "ee2b5933",
   "metadata": {},
   "outputs": [
    {
     "name": "stdout",
     "output_type": "stream",
     "text": [
      "a    1\n",
      "b    2\n",
      "c    3\n",
      "dtype: int64\n"
     ]
    }
   ],
   "source": [
    "print(myseries)"
   ]
  },
  {
   "cell_type": "code",
   "execution_count": null,
   "id": "c5e3e76d",
   "metadata": {},
   "outputs": [
    {
     "name": "stdout",
     "output_type": "stream",
     "text": [
      "1\n"
     ]
    }
   ],
   "source": [
    "print(myseries[0])"
   ]
  },
  {
   "cell_type": "code",
   "execution_count": null,
   "id": "70ab36ca",
   "metadata": {},
   "outputs": [
    {
     "name": "stdout",
     "output_type": "stream",
     "text": [
      "1\n"
     ]
    }
   ],
   "source": [
    "print(myseries['a'])"
   ]
  },
  {
   "cell_type": "markdown",
   "id": "c9e1d82a",
   "metadata": {},
   "source": [
    "**DataFrame**"
   ]
  },
  {
   "cell_type": "code",
   "execution_count": null,
   "id": "170bc5d2",
   "metadata": {},
   "outputs": [],
   "source": [
    "myarray = numpy.array([[1,2,3], [4,5,6]])"
   ]
  },
  {
   "cell_type": "code",
   "execution_count": null,
   "id": "0dc9a30e",
   "metadata": {},
   "outputs": [],
   "source": [
    "rows = ['a', 'b']"
   ]
  },
  {
   "cell_type": "code",
   "execution_count": null,
   "id": "1618b213",
   "metadata": {},
   "outputs": [],
   "source": [
    "columns = ['one', 'two', 'three']"
   ]
  },
  {
   "cell_type": "code",
   "execution_count": null,
   "id": "b5fc4392",
   "metadata": {},
   "outputs": [],
   "source": [
    "mydataframe = pandas.DataFrame(myarray, index=rows, columns=columns)"
   ]
  },
  {
   "cell_type": "code",
   "execution_count": null,
   "id": "80992044",
   "metadata": {},
   "outputs": [
    {
     "name": "stdout",
     "output_type": "stream",
     "text": [
      "   one  two  three\n",
      "a    1    2      3\n",
      "b    4    5      6\n"
     ]
    }
   ],
   "source": [
    "print(mydataframe)"
   ]
  },
  {
   "cell_type": "code",
   "execution_count": null,
   "id": "63370af4",
   "metadata": {},
   "outputs": [
    {
     "name": "stdout",
     "output_type": "stream",
     "text": [
      "Method 1:\n",
      "Column one:\n",
      "a    1\n",
      "b    4\n",
      "Name: one, dtype: int64\n"
     ]
    }
   ],
   "source": [
    "print(f'Method 1:\\nColumn one:\\n{mydataframe.one}')"
   ]
  },
  {
   "cell_type": "code",
   "execution_count": null,
   "id": "dccb63b2",
   "metadata": {},
   "outputs": [
    {
     "name": "stdout",
     "output_type": "stream",
     "text": [
      "Method 2:\n",
      "Column one:\n",
      "a    1\n",
      "b    4\n",
      "Name: one, dtype: int64\n"
     ]
    }
   ],
   "source": [
    "print('Method 2:\\nColumn one:\\n%s' % mydataframe['one'])"
   ]
  },
  {
   "cell_type": "code",
   "execution_count": null,
   "id": "524c3c30",
   "metadata": {},
   "outputs": [],
   "source": []
  },
  {
   "cell_type": "code",
   "execution_count": null,
   "id": "84edea6c",
   "metadata": {},
   "outputs": [],
   "source": []
  },
  {
   "cell_type": "code",
   "execution_count": null,
   "id": "ea62bcec",
   "metadata": {},
   "outputs": [],
   "source": []
  },
  {
   "cell_type": "code",
   "execution_count": null,
   "id": "a208a5b1",
   "metadata": {},
   "outputs": [],
   "source": []
  },
  {
   "cell_type": "code",
   "execution_count": null,
   "id": "acba6bd2",
   "metadata": {},
   "outputs": [],
   "source": []
  },
  {
   "cell_type": "code",
   "execution_count": null,
   "id": "efafc37c",
   "metadata": {},
   "outputs": [],
   "source": []
  },
  {
   "cell_type": "code",
   "execution_count": null,
   "id": "46b03b00",
   "metadata": {},
   "outputs": [],
   "source": []
  },
  {
   "cell_type": "code",
   "execution_count": null,
   "id": "72a38789",
   "metadata": {},
   "outputs": [],
   "source": []
  },
  {
   "cell_type": "code",
   "execution_count": null,
   "id": "566b51ce",
   "metadata": {},
   "outputs": [],
   "source": []
  }
 ],
 "metadata": {
  "kernelspec": {
   "display_name": "Python 3 (ipykernel)",
   "language": "python",
   "name": "python3"
  }
 },
 "nbformat": 4,
 "nbformat_minor": 5
}

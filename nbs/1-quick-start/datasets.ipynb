{
 "cells": [
  {
   "cell_type": "markdown",
   "id": "d237e0c1",
   "metadata": {},
   "source": [
    "# Datasets"
   ]
  },
  {
   "cell_type": "markdown",
   "id": "5660d0b0",
   "metadata": {},
   "source": [
    "## Pima Indians Dataset"
   ]
  },
  {
   "cell_type": "markdown",
   "id": "a09a3744",
   "metadata": {},
   "source": [
    "The Pima Indians dataset is used to demonstrate data loading in this lesson. It will also be used in many of the lessons to come. This dataset describes the medical records for Pima Indians and whether or not each patient will have an onset of diabetes within five years. As such it is a classification problem. It is a good dataset for demonstration because all of the input attributes are numeric and the output variable to be predicted is binary (0 or 1)."
   ]
  },
  {
   "cell_type": "markdown",
   "id": "4c3f57c6",
   "metadata": {},
   "source": [
    "## Boston house price dataset"
   ]
  },
  {
   "cell_type": "markdown",
   "id": "89bc8378",
   "metadata": {},
   "source": [
    "https://www.kaggle.com/datasets/vikrishnan/boston-house-prices"
   ]
  },
  {
   "cell_type": "code",
   "execution_count": null,
   "id": "eb3fca8a",
   "metadata": {},
   "outputs": [],
   "source": []
  }
 ],
 "metadata": {
  "kernelspec": {
   "display_name": "Python 3 (ipykernel)",
   "language": "python",
   "name": "python3"
  }
 },
 "nbformat": 4,
 "nbformat_minor": 5
}

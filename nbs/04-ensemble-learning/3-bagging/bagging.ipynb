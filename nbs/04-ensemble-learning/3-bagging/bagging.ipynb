{
 "cells": [
  {
   "cell_type": "markdown",
   "id": "5cc2cc98",
   "metadata": {},
   "source": [
    "**Bagging**"
   ]
  },
  {
   "cell_type": "code",
   "execution_count": null,
   "id": "61cd4fc5",
   "metadata": {},
   "outputs": [],
   "source": [
    "from matplotlib import pyplot\n",
    "from numpy import arange\n",
    "from sklearn.neighbors import KNeighborsClassifier\n",
    "from sklearn.model_selection import cross_val_score, RepeatedStratifiedKFold, RepeatedKFold\n",
    "from sklearn.ensemble import BaggingClassifier, BaggingRegressor\n",
    "from sklearn.datasets import make_classification, make_regression"
   ]
  },
  {
   "cell_type": "code",
   "execution_count": null,
   "id": "b0ffcb0b",
   "metadata": {},
   "outputs": [],
   "source": [
    "seed = 5"
   ]
  },
  {
   "cell_type": "code",
   "execution_count": null,
   "id": "de9bdf6d",
   "metadata": {},
   "outputs": [],
   "source": [
    "def make_clas_dataset(n_samples=1000, n_features=20, n_informative=15, n_redundant=5, random_state=5):\n",
    "    X, Y = make_classification(n_samples=n_samples, n_features=n_features, \n",
    "                               n_informative=n_informative, n_redundant=n_redundant, \n",
    "                               random_state=random_state)\n",
    "    return X, Y"
   ]
  },
  {
   "cell_type": "code",
   "execution_count": null,
   "id": "8050144a",
   "metadata": {},
   "outputs": [],
   "source": [
    "def make_reg_dataset(n_samples=1000, n_features=20, n_informative=15, noise=0.1, random_state=5):\n",
    "    X, Y = make_regression(n_samples=n_samples, n_features=n_features, \n",
    "                           n_informative=n_informative, noise=noise, random_state=random_state)\n",
    "    return X, Y"
   ]
  },
  {
   "cell_type": "code",
   "execution_count": null,
   "id": "157dded9",
   "metadata": {},
   "outputs": [],
   "source": [
    "def evaluate_clas_model(model, X, Y):\n",
    "    cv = RepeatedStratifiedKFold(n_splits=10, n_repeats=3, random_state=1)\n",
    "    results = cross_val_score(model, X, Y, scoring='accuracy', cv=cv)\n",
    "    return results "
   ]
  },
  {
   "cell_type": "code",
   "execution_count": null,
   "id": "2f475229",
   "metadata": {},
   "outputs": [],
   "source": [
    "def show_results(models, X, Y):\n",
    "    results, names = [], []\n",
    "    for name, model in models.items():\n",
    "        scores = evaluate_clas_model(model, X, Y)\n",
    "        results.append(scores)\n",
    "        names.append(name)\n",
    "        print(f'{name}: {scores.mean(): .3f} ({scores.std(): .3f})')\n",
    "        \n",
    "    pyplot.boxplot(results, labels=names, showmeans=True)\n",
    "    pyplot.show()"
   ]
  },
  {
   "cell_type": "markdown",
   "id": "269fc0a7",
   "metadata": {},
   "source": [
    "# Bagged Decision Trees Ensemble"
   ]
  },
  {
   "cell_type": "markdown",
   "id": "dad6b03f",
   "metadata": {},
   "source": [
    "Bagging is an ensemble machine learning algorithm that combines the predictions from many\n",
    "decision trees. It is also easy to implement given that it has few key hyperparameters and\n",
    "sensible heuristics for configuring these hyperparameters. Bagging performs well in general and\n",
    "provides the basis for a whole field of ensemble of decision tree algorithms such as the popular\n",
    "random forest and extra trees ensemble algorithms, as well as the lesser-known Pasting, Random\n",
    "Subspaces, and Random Patches ensemble algorithms."
   ]
  },
  {
   "cell_type": "markdown",
   "id": "7a28812f",
   "metadata": {},
   "source": [
    "**Bagging Ensemble Algorithm**\n",
    "\n",
    "Bootstrap Aggregation, or Bagging for short, is an ensemble machine learning algorithm.\n",
    "Specifically, it is an ensemble of decision tree models, although the bagging technique can also\n",
    "be used to combine the predictions of other types of models. As its name suggests, bootstrap\n",
    "aggregation is based on the idea of the bootstrap sample. A bootstrap sample is a sample of a\n",
    "dataset with replacement. Replacement means that a sample drawn from the dataset is replaced,\n",
    "allowing it to be selected again and perhaps multiple times in the new sample. This means that\n",
    "the sample may have duplicate examples from the original dataset. The bootstrap sampling\n",
    "technique is used to estimate a population statistic from a small data sample. This is achieved\n",
    "by drawing multiple bootstrap samples, calculating the statistic on each, and reporting the\n",
    "mean statistic across all samples.\n",
    "\n",
    "An example of using bootstrap sampling would be estimating the population mean from a\n",
    "small dataset. Multiple bootstrap samples are drawn from the dataset, the mean calculated on\n",
    "each, then the mean of the estimated means is reported as an estimate of the population mean.\n",
    "Surprisingly, the bootstrap method provides a robust and accurate approach to estimating\n",
    "statistical quantities compared to a single estimate on the original dataset.\n",
    "\n",
    "This same approach can be used to create an ensemble of decision tree models. This is\n",
    "achieved by drawing multiple bootstrap samples from the training dataset and fitting a decision\n",
    "tree on each. The predictions from the decision trees are then combined to provide a more\n",
    "robust and accurate prediction than a single decision tree (typically, but not always).\n",
    "\n",
    "Predictions are made for regression problems by averaging the prediction across the decision\n",
    "trees. Predictions are made for classification problems by taking the majority vote prediction\n",
    "for the classes from across the predictions made by the decision trees. The bagged decision trees\n",
    "are effective because each decision tree is fit on a slightly different training dataset, which in\n",
    "turn allows each tree to have minor differences and make slightly different skillful predictions.\n",
    "Technically, we say that the method is effective because the trees have a low correlation between\n",
    "predictions and, in turn, prediction errors.\n",
    "\n",
    "Decision trees, specifically unpruned decision trees, are used as they slightly overfit the\n",
    "training data and have a high variance. Other high-variance machine learning algorithms can\n",
    "be used, such as a k-nearest neighbors algorithm with a low k value, although decision trees\n",
    "have proven to be the most effective.\n",
    "\n",
    "Bagging does not always offer an improvement. For low-variance models that already perform\n",
    "well, bagging can result in a decrease in model performance."
   ]
  },
  {
   "cell_type": "markdown",
   "id": "163421a4",
   "metadata": {},
   "source": [
    "## Evaluate Bagging Ensembles"
   ]
  },
  {
   "cell_type": "markdown",
   "id": "5a650715",
   "metadata": {},
   "source": [
    "**Bagging for Classification**"
   ]
  },
  {
   "cell_type": "code",
   "execution_count": null,
   "id": "e3590080",
   "metadata": {},
   "outputs": [],
   "source": [
    "from sklearn.ensemble import BaggingClassifier"
   ]
  },
  {
   "cell_type": "code",
   "execution_count": null,
   "id": "b70d8a41",
   "metadata": {},
   "outputs": [],
   "source": [
    "X, Y = make_clas_data()\n",
    "X.shape, Y.shape"
   ]
  },
  {
   "cell_type": "code",
   "execution_count": null,
   "id": "97133333",
   "metadata": {},
   "outputs": [],
   "source": [
    "model = BaggingClassifier()"
   ]
  },
  {
   "cell_type": "code",
   "execution_count": null,
   "id": "cf8e3db0",
   "metadata": {},
   "outputs": [],
   "source": [
    "cv = RepeatedStratifiedKFold(n_splits=10, n_repeats=3, random_state=1)"
   ]
  },
  {
   "cell_type": "code",
   "execution_count": null,
   "id": "779db983",
   "metadata": {},
   "outputs": [],
   "source": [
    "results = cross_val_score(model, X, Y, scoring='accuracy', cv=cv)\n",
    "print(f'Accuracy: {results.mean(): .3f} ({results.std(): .3f})')"
   ]
  },
  {
   "cell_type": "markdown",
   "id": "43baf13a",
   "metadata": {},
   "source": [
    "We can also use the Bagging model as a final model and make predictions for classification."
   ]
  },
  {
   "cell_type": "code",
   "execution_count": null,
   "id": "31775d34",
   "metadata": {},
   "outputs": [],
   "source": [
    "model.fit(X, Y)"
   ]
  },
  {
   "cell_type": "code",
   "execution_count": null,
   "id": "853add63",
   "metadata": {},
   "outputs": [],
   "source": [
    "yhat = model.predict([row])\n",
    "yhat"
   ]
  },
  {
   "cell_type": "code",
   "execution_count": null,
   "id": "4bdbf8d4",
   "metadata": {},
   "outputs": [],
   "source": [
    "print(f'Predicted Class: {yhat[0]}')"
   ]
  },
  {
   "cell_type": "markdown",
   "id": "89d6086a",
   "metadata": {},
   "source": [
    "**Bagging for Regression**"
   ]
  },
  {
   "cell_type": "code",
   "execution_count": null,
   "id": "8e7cdb20",
   "metadata": {},
   "outputs": [],
   "source": [
    "from sklearn.ensemble import BaggingRegressor"
   ]
  },
  {
   "cell_type": "code",
   "execution_count": null,
   "id": "e14c6c40",
   "metadata": {},
   "outputs": [],
   "source": [
    "X, Y = make_reg_data()"
   ]
  },
  {
   "cell_type": "code",
   "execution_count": null,
   "id": "df1ffb88",
   "metadata": {},
   "outputs": [],
   "source": [
    "model = BaggingRegressor()"
   ]
  },
  {
   "cell_type": "code",
   "execution_count": null,
   "id": "d39b1c7c",
   "metadata": {},
   "outputs": [],
   "source": [
    "cv = RepeatedKFold(n_splits=10, n_repeats=3, random_state=1)"
   ]
  },
  {
   "cell_type": "code",
   "execution_count": null,
   "id": "d89d147e",
   "metadata": {},
   "outputs": [],
   "source": [
    "results = cross_val_score(model, X, Y, \n",
    "                          scoring='neg_mean_absolute_error', cv=cv)"
   ]
  },
  {
   "cell_type": "code",
   "execution_count": null,
   "id": "8a1ee87f",
   "metadata": {},
   "outputs": [],
   "source": [
    "print(f'MAE: {results.mean(): .3f} ({results.std(): .3f})')"
   ]
  },
  {
   "cell_type": "code",
   "execution_count": null,
   "id": "a89103f9",
   "metadata": {},
   "outputs": [],
   "source": [
    "model.fit(X, Y)"
   ]
  },
  {
   "cell_type": "code",
   "execution_count": null,
   "id": "1ba20dde",
   "metadata": {},
   "outputs": [],
   "source": [
    "yhat = model.predict([row])"
   ]
  },
  {
   "cell_type": "code",
   "execution_count": null,
   "id": "4f005e72",
   "metadata": {},
   "outputs": [],
   "source": [
    "print(f'Prediction: {yhat[0]}')"
   ]
  },
  {
   "cell_type": "markdown",
   "id": "947d57ee",
   "metadata": {},
   "source": [
    "## Bagging Hyperparameters"
   ]
  },
  {
   "cell_type": "markdown",
   "id": "3f7665b6",
   "metadata": {},
   "source": [
    "In this section, we will take a closer look at some of the hyperparameters you should consider\n",
    "tuning for the Bagging ensemble and their effect on model performance."
   ]
  },
  {
   "cell_type": "markdown",
   "id": "03252b60",
   "metadata": {},
   "source": [
    "**Explore Number of Trees**\n",
    "\n",
    "An important hyperparameter for the Bagging algorithm is the number of decision trees used in\n",
    "the ensemble. Typically, the number of trees is increased until the model performance stabilizes.\n",
    "Intuition might suggest that more trees will lead to overfitting, although this is not the case.\n",
    "Bagging and related ensembles of decision trees algorithms (like random forest) appear to be\n",
    "somewhat immune to overfitting the training dataset given the stochastic nature of the learning\n",
    "algorithm."
   ]
  },
  {
   "cell_type": "code",
   "execution_count": null,
   "id": "b3940a3d",
   "metadata": {},
   "outputs": [],
   "source": [
    "def get_models(param):\n",
    "    models = dict()\n",
    "    \n",
    "    if param == 'n_estimators':\n",
    "        n_trees = [10,50]\n",
    "        for n in n_trees:\n",
    "            models[str(n)] = BaggingClassifier(n_estimators=n)\n",
    "            \n",
    "    if param == 'max_samples':\n",
    "        for i in arange(0.1, 1.1, 0.1):\n",
    "            key = '%.1f' % i\n",
    "            models[key] = BaggingClassifier(max_samples=i)\n",
    "            \n",
    "    if param == 'base_estimator':\n",
    "        models = dict()\n",
    "        for i in range(1,21):\n",
    "            base = KNeighborsClassifier(n_neighbors=i)\n",
    "            models[str(i)] = BaggingClassifier(base_estimator=base)\n",
    "            \n",
    "    return models"
   ]
  },
  {
   "cell_type": "code",
   "execution_count": null,
   "id": "71127c7e",
   "metadata": {},
   "outputs": [],
   "source": [
    "X, Y = make_clas_dataset()"
   ]
  },
  {
   "cell_type": "code",
   "execution_count": null,
   "id": "d15aeca7",
   "metadata": {},
   "outputs": [],
   "source": [
    "models = get_model('n_estimators')"
   ]
  },
  {
   "cell_type": "code",
   "execution_count": null,
   "id": "645c501e",
   "metadata": {},
   "outputs": [],
   "source": [
    "show_results(models, X, Y)"
   ]
  },
  {
   "cell_type": "code",
   "execution_count": null,
   "id": "40f0f6ea",
   "metadata": {},
   "outputs": [],
   "source": [
    "pyplot.boxplot(results, labels=names, showmeans=True)\n",
    "pyplot.show()"
   ]
  },
  {
   "cell_type": "markdown",
   "id": "299896e8",
   "metadata": {},
   "source": [
    "**Explore Number of Samples**\n",
    "\n",
    "The size of the bootstrap sample can also be varied. The default is to create a bootstrap sample\n",
    "that has the same number of examples as the original dataset. Using a smaller dataset can\n",
    "increase the variance of the resulting decision trees and could result in better overall performance"
   ]
  },
  {
   "cell_type": "code",
   "execution_count": null,
   "id": "a5497fb7",
   "metadata": {},
   "outputs": [],
   "source": [
    "X, Y = make_clas_dataset()"
   ]
  },
  {
   "cell_type": "code",
   "execution_count": null,
   "id": "7fefa82b",
   "metadata": {},
   "outputs": [],
   "source": [
    "models = get_models(param='max_samples')"
   ]
  },
  {
   "cell_type": "code",
   "execution_count": null,
   "id": "775c6ea5",
   "metadata": {},
   "outputs": [],
   "source": [
    "show_results(models, X, Y)"
   ]
  },
  {
   "cell_type": "markdown",
   "id": "3b442310",
   "metadata": {},
   "source": [
    "**Explore Alternate Algorithm**\n",
    "\n",
    "Decision trees are the most common algorithm used in a bagging ensemble. The reason for this\n",
    "is that they are easy to configure to have a high variance and because they perform well in\n",
    "general. Other algorithms can be used with bagging and must be configured to have a modestly\n",
    "high variance. One example is the k-nearest neighbors algorithm where the k value can be\n",
    "set to a low value. The algorithm used in the ensemble is specified via the base estimator\n",
    "argument and must be set to an instance of the algorithm and algorithm configuration to use."
   ]
  },
  {
   "cell_type": "code",
   "execution_count": null,
   "id": "e81b4949",
   "metadata": {},
   "outputs": [],
   "source": [
    "X, Y = make_clas_dataset()"
   ]
  },
  {
   "cell_type": "code",
   "execution_count": null,
   "id": "3e93cc67",
   "metadata": {},
   "outputs": [],
   "source": [
    "models = get_models('base_estimator')"
   ]
  },
  {
   "cell_type": "code",
   "execution_count": null,
   "id": "3c040e7e",
   "metadata": {},
   "outputs": [],
   "source": [
    "show_results(models, X, Y)"
   ]
  },
  {
   "cell_type": "markdown",
   "id": "6de852c8",
   "metadata": {},
   "source": [
    "# Random Subspace Ensemble"
   ]
  },
  {
   "cell_type": "markdown",
   "id": "1eb71d1a",
   "metadata": {},
   "source": [
    "Random Subspace Ensemble is a machine learning algorithm that combines the predictions from\n",
    "multiple decision trees trained on different subsets of columns in the training dataset. Randomly\n",
    "varying the columns used to train each contributing member of the ensemble has the effect of\n",
    "introducing diversity into the ensemble and, in turn, can lift performance over using a single\n",
    "decision tree. It is related to other ensembles of decision trees such as bootstrap aggregation\n",
    "(bagging) that creates trees using different samples of rows from the training dataset, and\n",
    "random forest that combines ideas from bagging and the random subspace ensemble. Although\n",
    "decision trees are often used, the general random subspace method can be used with any machine\n",
    "learning model whose performance varies meaningfully with the choice of input features. In\n",
    "this tutorial, you will discover how to develop random subspace ensembles for classification and\n",
    "regression. After completing this tutorial, you will know:\n",
    "* Random subspace ensembles are created from decision trees fit on different samples of\n",
    "features (columns) in the training dataset.\n",
    "* How to use the random subspace ensemble for classification and regression with scikit-learn.\n",
    "* How to explore the effect of random subspace model hyperparameters on model perfor-\n",
    "mance."
   ]
  },
  {
   "cell_type": "markdown",
   "id": "c763e01f",
   "metadata": {},
   "source": [
    "## Evaluate Random Subspace Ensembles"
   ]
  },
  {
   "cell_type": "markdown",
   "id": "33b1ea4a",
   "metadata": {},
   "source": [
    "**Random Subspace Ensemble for Classification**"
   ]
  },
  {
   "cell_type": "code",
   "execution_count": null,
   "id": "2818e068",
   "metadata": {},
   "outputs": [],
   "source": [
    "X, Y = make_clas_dataset()"
   ]
  },
  {
   "cell_type": "code",
   "execution_count": null,
   "id": "2c06dff7",
   "metadata": {},
   "outputs": [],
   "source": [
    "model = BaggingClassifier(bootstrap=False, max_features=10)"
   ]
  },
  {
   "cell_type": "code",
   "execution_count": null,
   "id": "d5bb268f",
   "metadata": {},
   "outputs": [],
   "source": [
    "cv = RepeatedStratifiedKFold(n_splits=10, n_repeats=3, random_state=1)"
   ]
  },
  {
   "cell_type": "code",
   "execution_count": null,
   "id": "7b7bf117",
   "metadata": {},
   "outputs": [],
   "source": [
    "results = cross_val_score(model, X, Y, scoring='accuracy', cv=cv)\n",
    "print(f'{results.mean(): 0.3f} ({results.std():.3f})')"
   ]
  },
  {
   "cell_type": "code",
   "execution_count": null,
   "id": "2b5dbe36",
   "metadata": {},
   "outputs": [],
   "source": [
    "model.fit(X,Y)"
   ]
  },
  {
   "cell_type": "code",
   "execution_count": null,
   "id": "4bbb4fca",
   "metadata": {},
   "outputs": [],
   "source": [
    "yhat = model.predict([row])\n",
    "print(yhat[0])"
   ]
  },
  {
   "cell_type": "markdown",
   "id": "6167bf91",
   "metadata": {},
   "source": [
    "**Random Subspace Ensemble for Regression**"
   ]
  },
  {
   "cell_type": "code",
   "execution_count": null,
   "id": "ef47c0bc",
   "metadata": {},
   "outputs": [],
   "source": [
    "X, Y = make_reg_dataset()"
   ]
  },
  {
   "cell_type": "code",
   "execution_count": null,
   "id": "085b955e",
   "metadata": {},
   "outputs": [],
   "source": [
    "model = BaggingRegressor(bootstrap=False, max_features=10)"
   ]
  },
  {
   "cell_type": "code",
   "execution_count": null,
   "id": "9a204258",
   "metadata": {},
   "outputs": [],
   "source": [
    "cv = RepeatedKFold(n_splits=10, n_repeats=3, random_state=1)"
   ]
  },
  {
   "cell_type": "code",
   "execution_count": null,
   "id": "344f2dce",
   "metadata": {},
   "outputs": [],
   "source": [
    "results = cross_val_score(model, X, Y, scoring='neg_mean_absolute_error', cv=cv)"
   ]
  },
  {
   "cell_type": "code",
   "execution_count": null,
   "id": "1af8b3b8",
   "metadata": {},
   "outputs": [],
   "source": [
    "print(f'{results.mean():0.3f} ({results.std():0.3f})')"
   ]
  },
  {
   "cell_type": "code",
   "execution_count": null,
   "id": "f95410d4",
   "metadata": {},
   "outputs": [],
   "source": [
    "model.fit(X, Y)"
   ]
  },
  {
   "cell_type": "code",
   "execution_count": null,
   "id": "6104f95f",
   "metadata": {},
   "outputs": [],
   "source": [
    "yhat = model.predict([reg_row])\n",
    "print(f'{int(yhat[0])}')"
   ]
  },
  {
   "cell_type": "markdown",
   "id": "8fb81cf8",
   "metadata": {},
   "source": [
    "## Random Subspace Ensemble Hyperparameters"
   ]
  },
  {
   "cell_type": "markdown",
   "id": "d40d0765",
   "metadata": {},
   "source": [
    "**Explore Number of Trees**"
   ]
  },
  {
   "cell_type": "code",
   "execution_count": null,
   "id": "58d24903",
   "metadata": {},
   "outputs": [],
   "source": [
    "def get_models():\n",
    "    models = dict()\n",
    "    n_trees = [10,50,100]\n",
    "    for n in n_trees:\n",
    "        models[str(n)] = BaggingClassifier(n_estimators=n, bootstrap=False, max_features=10)\n",
    "    return models"
   ]
  },
  {
   "cell_type": "code",
   "execution_count": null,
   "id": "28b66483",
   "metadata": {},
   "outputs": [],
   "source": [
    "X, Y = make_clas_dataset()"
   ]
  },
  {
   "cell_type": "code",
   "execution_count": null,
   "id": "961f4f3c",
   "metadata": {},
   "outputs": [],
   "source": [
    "models = get_models()\n",
    "models"
   ]
  },
  {
   "cell_type": "code",
   "execution_count": null,
   "id": "a325bf3c",
   "metadata": {},
   "outputs": [],
   "source": [
    "show_results(models, X, Y)"
   ]
  },
  {
   "cell_type": "markdown",
   "id": "e185198e",
   "metadata": {},
   "source": [
    "**Explore Number of Features**"
   ]
  },
  {
   "cell_type": "code",
   "execution_count": null,
   "id": "ecb6bd85",
   "metadata": {},
   "outputs": [],
   "source": [
    "def get_models():\n",
    "    models = dict()\n",
    "    for n in range(1,5):\n",
    "        models[str(n)] = BaggingClassifier(n_estimators=100, bootstrap=False, max_features=n)\n",
    "    return models"
   ]
  },
  {
   "cell_type": "code",
   "execution_count": null,
   "id": "66c14a4e",
   "metadata": {},
   "outputs": [],
   "source": [
    "X,Y = make_clas_dataset()"
   ]
  },
  {
   "cell_type": "code",
   "execution_count": null,
   "id": "d87d9a79",
   "metadata": {},
   "outputs": [],
   "source": [
    "models = get_models()"
   ]
  },
  {
   "cell_type": "code",
   "execution_count": null,
   "id": "db5de4ea",
   "metadata": {},
   "outputs": [],
   "source": [
    "show_results(models, X, Y)"
   ]
  },
  {
   "cell_type": "markdown",
   "id": "584261a8",
   "metadata": {},
   "source": [
    "**Explore Alternate Algorithm**"
   ]
  },
  {
   "cell_type": "code",
   "execution_count": null,
   "id": "52a2ff68",
   "metadata": {},
   "outputs": [],
   "source": [
    "X, Y = make_clas_dataset()"
   ]
  },
  {
   "cell_type": "code",
   "execution_count": null,
   "id": "48f42398",
   "metadata": {},
   "outputs": [],
   "source": [
    "model = BaggingClassifier(base_estimator=KNeighborsClassifier(), bootstrap=False, max_features=10)"
   ]
  },
  {
   "cell_type": "code",
   "execution_count": null,
   "id": "904594d3",
   "metadata": {},
   "outputs": [],
   "source": [
    "cv = RepeatedStratifiedKFold(n_splits=10, n_repeats=3, random_state=1)"
   ]
  },
  {
   "cell_type": "code",
   "execution_count": null,
   "id": "a90a1f5c",
   "metadata": {},
   "outputs": [],
   "source": [
    "results = cross_val_score(model, X, Y, scoring='accuracy', cv=cv)\n",
    "print(f'Mean Accuracy: {results.mean():.3f} ({results.std():.3f})')"
   ]
  },
  {
   "cell_type": "markdown",
   "id": "eec35b3a",
   "metadata": {},
   "source": [
    "# Feature Selection Bagging Ensemble"
   ]
  },
  {
   "cell_type": "markdown",
   "id": "54d8dc7e",
   "metadata": {},
   "source": [
    "## Single Feature Selection Method Ensembles"
   ]
  },
  {
   "cell_type": "code",
   "execution_count": null,
   "id": "385e118f",
   "metadata": {},
   "outputs": [],
   "source": [
    "from sklearn.tree import DecisionTreeClassifier\n",
    "from sklearn.pipeline import Pipeline\n",
    "from sklearn.ensemble import VotingClassifier"
   ]
  },
  {
   "cell_type": "markdown",
   "id": "e96a24fd",
   "metadata": {},
   "source": [
    "**ANOVA F-statistic Ensemble**"
   ]
  },
  {
   "cell_type": "code",
   "execution_count": null,
   "id": "970fcf76",
   "metadata": {},
   "outputs": [],
   "source": [
    "from sklearn.feature_selection import SelectKBest, f_classif"
   ]
  },
  {
   "cell_type": "code",
   "execution_count": null,
   "id": "77bc4a51",
   "metadata": {},
   "outputs": [],
   "source": [
    "def get_ensemble(n_features):\n",
    "    models = []\n",
    "    for i in range(1, n_features+1):\n",
    "        feat_selec = SelectKBest(score_func=f_classif, k=i)\n",
    "        model = DecisionTreeClassifier()\n",
    "        pipe = Pipeline([('fs', feat_selec), ('m', model)])\n",
    "        models.append((str(i), pipe))\n",
    "    ensemble = VotingClassifier(estimators=models, voting='hard')\n",
    "    return ensemble"
   ]
  },
  {
   "cell_type": "code",
   "execution_count": null,
   "id": "a055f5bb",
   "metadata": {},
   "outputs": [],
   "source": [
    "X, Y = make_clas_dataset()"
   ]
  },
  {
   "cell_type": "code",
   "execution_count": null,
   "id": "8e14a906",
   "metadata": {},
   "outputs": [],
   "source": [
    "ensemble = get_ensemble(X.shape[1])"
   ]
  },
  {
   "cell_type": "code",
   "execution_count": null,
   "id": "a6faf5db",
   "metadata": {},
   "outputs": [],
   "source": [
    "cv = RepeatedStratifiedKFold(n_splits=10, n_repeats=3, random_state=1)"
   ]
  },
  {
   "cell_type": "code",
   "execution_count": null,
   "id": "6fd05afe",
   "metadata": {},
   "outputs": [],
   "source": [
    "results = cross_val_score(ensemble, X, Y, scoring='accuracy', cv=cv)\n",
    "print(f'{results.mean(): .3f} ({results.std(): .3f})')"
   ]
  },
  {
   "cell_type": "markdown",
   "id": "2b5dfd46",
   "metadata": {},
   "source": [
    "**Mutual Information Ensemble**"
   ]
  },
  {
   "cell_type": "code",
   "execution_count": null,
   "id": "b9a88e2e",
   "metadata": {},
   "outputs": [],
   "source": [
    "from sklearn.feature_selection import SelectKBest, mutual_info_classif"
   ]
  },
  {
   "cell_type": "code",
   "execution_count": null,
   "id": "3c1b55a2",
   "metadata": {},
   "outputs": [],
   "source": [
    "def get_ensemble(n_features):\n",
    "    models = []\n",
    "    for i in range(1, n_features+1):\n",
    "        fs = SelectKBest(score_func=mutual_info_classif, k=i)\n",
    "        model = DecisionTreeClassifier()\n",
    "        pipe = Pipeline([('fs', fs), ('m', model)])\n",
    "        models.append((str(i), pipe))\n",
    "    ensemble = VotingClassifier(estimators=models, voting='hard')\n",
    "    return ensemble"
   ]
  },
  {
   "cell_type": "code",
   "execution_count": null,
   "id": "88a7d502",
   "metadata": {},
   "outputs": [],
   "source": [
    "X,Y = make_clas_dataset()"
   ]
  },
  {
   "cell_type": "code",
   "execution_count": null,
   "id": "3839f8b7",
   "metadata": {},
   "outputs": [],
   "source": [
    "ensemble = get_ensemble(X.shape[1])"
   ]
  },
  {
   "cell_type": "code",
   "execution_count": null,
   "id": "e8d1ec76",
   "metadata": {},
   "outputs": [],
   "source": [
    "cv = RepeatedStratifiedKFold(n_splits=10, n_repeats=3, random_state=1)"
   ]
  },
  {
   "cell_type": "code",
   "execution_count": null,
   "id": "bdab099b",
   "metadata": {},
   "outputs": [],
   "source": [
    "results = cross_val_score(ensemble, X, Y, scoring='accuracy', cv=cv)\n",
    "print(f'{results.mean(): .3f} ({results.std(): .3f})')"
   ]
  },
  {
   "cell_type": "markdown",
   "id": "22767fc3",
   "metadata": {},
   "source": [
    "**Recursive Feature Selection Ensemble**"
   ]
  },
  {
   "cell_type": "code",
   "execution_count": null,
   "id": "a570885b",
   "metadata": {},
   "outputs": [],
   "source": [
    "from sklearn.feature_selection import RFE"
   ]
  },
  {
   "cell_type": "code",
   "execution_count": null,
   "id": "bb09442a",
   "metadata": {},
   "outputs": [],
   "source": [
    "def get_ensemble(n_fatures):\n",
    "    models = []\n",
    "    for i in range(1, n_fatures+1):\n",
    "        fs = RFE(estimator=DecisionTreeClassifier(), n_features_to_select=i)\n",
    "        model = DecisionTreeClassifier()\n",
    "        pipe = Pipeline([('fs', fs), ('m', model)])\n",
    "        models.append((str(i), pipe))\n",
    "    ensemble = VotingClassifier(estimators=models, voting='hard')\n",
    "    return ensemble"
   ]
  },
  {
   "cell_type": "code",
   "execution_count": null,
   "id": "5a5fe97d",
   "metadata": {},
   "outputs": [],
   "source": [
    "X, Y = make_clas_dataset()"
   ]
  },
  {
   "cell_type": "code",
   "execution_count": null,
   "id": "8b7ac40c",
   "metadata": {},
   "outputs": [],
   "source": [
    "ensemble = get_ensemble(X.shape[1])"
   ]
  },
  {
   "cell_type": "code",
   "execution_count": null,
   "id": "a94dbaae",
   "metadata": {},
   "outputs": [],
   "source": [
    "cv = RepeatedStratifiedKFold(n_splits=10, n_repeats=3, random_state=1)"
   ]
  },
  {
   "cell_type": "code",
   "execution_count": null,
   "id": "4aebc3e1",
   "metadata": {},
   "outputs": [],
   "source": [
    "results = cross_val_score(ensemble, X, Y, scoring='accuracy', cv=cv)\n",
    "print(f'{results.mean(): .3f} ({results.std(): .3f})')"
   ]
  },
  {
   "cell_type": "markdown",
   "id": "7cd033c1",
   "metadata": {},
   "source": [
    "## Combined Feature Selection Ensembles"
   ]
  },
  {
   "cell_type": "code",
   "execution_count": null,
   "id": "8e4b38f3",
   "metadata": {},
   "outputs": [],
   "source": []
  },
  {
   "cell_type": "markdown",
   "id": "09ff08af",
   "metadata": {},
   "source": [
    "**Ensemble With Fixed Number of Features**"
   ]
  },
  {
   "cell_type": "code",
   "execution_count": null,
   "id": "51996c8c",
   "metadata": {},
   "outputs": [],
   "source": []
  },
  {
   "cell_type": "code",
   "execution_count": null,
   "id": "9d057ab4",
   "metadata": {},
   "outputs": [],
   "source": []
  },
  {
   "cell_type": "markdown",
   "id": "a9230f18",
   "metadata": {},
   "source": [
    "**Ensemble With Contiguous Number of Features**"
   ]
  },
  {
   "cell_type": "code",
   "execution_count": null,
   "id": "b86af83f",
   "metadata": {},
   "outputs": [],
   "source": []
  },
  {
   "cell_type": "code",
   "execution_count": null,
   "id": "0f99ee89",
   "metadata": {},
   "outputs": [],
   "source": []
  },
  {
   "cell_type": "markdown",
   "id": "176cb7d7",
   "metadata": {},
   "source": [
    "# Random Forest Ensemble"
   ]
  },
  {
   "cell_type": "markdown",
   "id": "5b1be271",
   "metadata": {},
   "source": [
    "## Evaluate Random Forest Ensembles"
   ]
  },
  {
   "cell_type": "markdown",
   "id": "429cb0e0",
   "metadata": {},
   "source": [
    "**Random Forest for Classification**"
   ]
  },
  {
   "cell_type": "code",
   "execution_count": null,
   "id": "cd2ca55c",
   "metadata": {},
   "outputs": [],
   "source": [
    "from sklearn.ensemble import RandomForestClassifier"
   ]
  },
  {
   "cell_type": "code",
   "execution_count": null,
   "id": "16b0a42d",
   "metadata": {},
   "outputs": [],
   "source": [
    "X, Y = make_clas_dataset(random_state=3)"
   ]
  },
  {
   "cell_type": "code",
   "execution_count": null,
   "id": "21bf6825",
   "metadata": {},
   "outputs": [],
   "source": [
    "model = RandomForestClassifier()"
   ]
  },
  {
   "cell_type": "code",
   "execution_count": null,
   "id": "71f7de4b",
   "metadata": {},
   "outputs": [],
   "source": [
    "cv = RepeatedStratifiedKFold(n_splits=10, n_repeats=3, random_state=1)"
   ]
  },
  {
   "cell_type": "code",
   "execution_count": null,
   "id": "a93cb829",
   "metadata": {},
   "outputs": [],
   "source": [
    "results = cross_val_score(model, X, Y, scoring='accuracy', cv=cv)\n",
    "print(f'Mean Accuracy: {results.mean():.3f} ({results.std():.3f})')"
   ]
  },
  {
   "cell_type": "code",
   "execution_count": null,
   "id": "18649015",
   "metadata": {},
   "outputs": [],
   "source": [
    "model.fit(X, Y)"
   ]
  },
  {
   "cell_type": "code",
   "execution_count": null,
   "id": "1e0df9ae",
   "metadata": {},
   "outputs": [],
   "source": [
    "row = [-8.52381793, 5.24451077, -12.14967704, -2.92949242, 0.99314133, 0.67326595,\n",
    "-0.38657932, 1.27955683, -0.60712621, 3.20807316, 0.60504151, -1.38706415, 8.92444588,\n",
    "-7.43027595, -2.33653219, 1.10358169, 0.21547782, 1.05057966, 0.6975331, 0.26076035]"
   ]
  },
  {
   "cell_type": "code",
   "execution_count": null,
   "id": "79839973",
   "metadata": {},
   "outputs": [],
   "source": [
    "yhat = model.predict([row])\n",
    "print(yhat[0])"
   ]
  },
  {
   "cell_type": "markdown",
   "id": "ebf85a93",
   "metadata": {},
   "source": [
    "**Random Forest for Regression**"
   ]
  },
  {
   "cell_type": "code",
   "execution_count": null,
   "id": "247becde",
   "metadata": {},
   "outputs": [],
   "source": [
    "from sklearn.ensemble import RandomForestRegressor"
   ]
  },
  {
   "cell_type": "code",
   "execution_count": null,
   "id": "169211c5",
   "metadata": {},
   "outputs": [],
   "source": [
    "X , Y = make_reg_dataset(random_state=2)"
   ]
  },
  {
   "cell_type": "code",
   "execution_count": null,
   "id": "5acfb452",
   "metadata": {},
   "outputs": [],
   "source": [
    "model = RandomForestRegressor()"
   ]
  },
  {
   "cell_type": "code",
   "execution_count": null,
   "id": "b7367b31",
   "metadata": {},
   "outputs": [],
   "source": [
    "cv = RepeatedKFold(n_splits=10, n_repeats=3, random_state=1)"
   ]
  },
  {
   "cell_type": "code",
   "execution_count": null,
   "id": "560b3e47",
   "metadata": {},
   "outputs": [],
   "source": [
    "results = cross_val_score(model, X, Y, scoring='neg_mean_absolute_error', cv=cv)\n",
    "print(f'{results.mean():.3f} ({results.std():.3f})')"
   ]
  },
  {
   "cell_type": "code",
   "execution_count": null,
   "id": "6c7426ed",
   "metadata": {},
   "outputs": [],
   "source": [
    "model.fit(X, Y)"
   ]
  },
  {
   "cell_type": "code",
   "execution_count": null,
   "id": "9649d3b1",
   "metadata": {},
   "outputs": [],
   "source": [
    "row = [-0.89483109, -1.0670149, -0.25448694, -0.53850126, 0.21082105, 1.37435592,\n",
    "0.71203659, 0.73093031, -1.25878104, -2.01656886, 0.51906798, 0.62767387, 0.96250155,\n",
    "1.31410617, -1.25527295, -0.85079036, 0.24129757, -0.17571721, -1.11454339, 0.36268268]"
   ]
  },
  {
   "cell_type": "code",
   "execution_count": null,
   "id": "e76669bb",
   "metadata": {},
   "outputs": [],
   "source": [
    "yhat = model.predict([row])\n",
    "print(f'{yhat[0]}')"
   ]
  },
  {
   "cell_type": "markdown",
   "id": "75981d87",
   "metadata": {},
   "source": [
    "## Random Forest Hyperparameters"
   ]
  },
  {
   "cell_type": "code",
   "execution_count": null,
   "id": "9b210363",
   "metadata": {},
   "outputs": [],
   "source": [
    "from sklearn.ensemble import RandomForestClassifier"
   ]
  },
  {
   "cell_type": "markdown",
   "id": "b1761cc8",
   "metadata": {},
   "source": [
    "**Explore Number of Samples**"
   ]
  },
  {
   "cell_type": "code",
   "execution_count": null,
   "id": "c811e024",
   "metadata": {},
   "outputs": [],
   "source": [
    "from numpy import arange"
   ]
  },
  {
   "cell_type": "code",
   "execution_count": null,
   "id": "1e66f208",
   "metadata": {},
   "outputs": [],
   "source": [
    "def get_models():\n",
    "    models = dict()\n",
    "    for i in arange(0.1, 1.1, 0.1):\n",
    "        key = '%.1f' % i\n",
    "        if i == 1.0:\n",
    "            i = None \n",
    "        models[key] = RandomForestClassifier(max_samples=i)\n",
    "    return models"
   ]
  },
  {
   "cell_type": "code",
   "execution_count": null,
   "id": "b5d0e701",
   "metadata": {},
   "outputs": [],
   "source": [
    "X , y = make_clas_dataset()"
   ]
  },
  {
   "cell_type": "code",
   "execution_count": null,
   "id": "9798b7d4",
   "metadata": {},
   "outputs": [],
   "source": [
    "models = get_models()"
   ]
  },
  {
   "cell_type": "code",
   "execution_count": null,
   "id": "43e5cdc5",
   "metadata": {},
   "outputs": [],
   "source": [
    "show_results(models, X, y)"
   ]
  },
  {
   "cell_type": "markdown",
   "id": "7d4cf7a2",
   "metadata": {},
   "source": [
    "**Explore Number of Features**"
   ]
  },
  {
   "cell_type": "code",
   "execution_count": null,
   "id": "581234df",
   "metadata": {},
   "outputs": [],
   "source": [
    "def get_models():\n",
    "    models = dict()\n",
    "    for i in range(1,8):\n",
    "        models[str(i)] = RandomForestClassifier(max_features=i)\n",
    "    return models        "
   ]
  },
  {
   "cell_type": "code",
   "execution_count": null,
   "id": "a39adb0d",
   "metadata": {},
   "outputs": [],
   "source": [
    "X, y = make_clas_dataset()"
   ]
  },
  {
   "cell_type": "code",
   "execution_count": null,
   "id": "7abcef47",
   "metadata": {},
   "outputs": [],
   "source": [
    "models = get_models()"
   ]
  },
  {
   "cell_type": "code",
   "execution_count": null,
   "id": "0d0bb09e",
   "metadata": {},
   "outputs": [],
   "source": [
    "show_results(models, X, y)"
   ]
  },
  {
   "cell_type": "markdown",
   "id": "16c2c298",
   "metadata": {},
   "source": [
    "**Explore Number of Trees**"
   ]
  },
  {
   "cell_type": "code",
   "execution_count": null,
   "id": "9a923d00",
   "metadata": {},
   "outputs": [],
   "source": [
    "def get_models():\n",
    "    models = dict()\n",
    "    n_trees = [10, 50, 100]\n",
    "    for n in n_trees:\n",
    "        models[str(n)] = RandomForestClassifier(n_estimators=n)\n",
    "    return models"
   ]
  },
  {
   "cell_type": "code",
   "execution_count": null,
   "id": "0ac24cfc",
   "metadata": {},
   "outputs": [],
   "source": [
    "X, y = make_clas_dataset()"
   ]
  },
  {
   "cell_type": "code",
   "execution_count": null,
   "id": "5deb296d",
   "metadata": {},
   "outputs": [],
   "source": [
    "models = get_models()\n",
    "models"
   ]
  },
  {
   "cell_type": "code",
   "execution_count": null,
   "id": "3cf4c70d",
   "metadata": {},
   "outputs": [],
   "source": [
    "show_results(models, X, y)"
   ]
  },
  {
   "cell_type": "markdown",
   "id": "e5232338",
   "metadata": {},
   "source": [
    "**Explore Tree Depth**"
   ]
  },
  {
   "cell_type": "code",
   "execution_count": null,
   "id": "5ec009af",
   "metadata": {},
   "outputs": [],
   "source": [
    "def get_models():\n",
    "    models = dict()\n",
    "    depths = [i for i in range(1,4)] + [None]\n",
    "    for n in depths:\n",
    "        models[str(n)] = RandomForestClassifier(max_depth=n)\n",
    "    return models"
   ]
  },
  {
   "cell_type": "code",
   "execution_count": null,
   "id": "058c1b81",
   "metadata": {},
   "outputs": [],
   "source": [
    "X, y = make_clas_dataset()"
   ]
  },
  {
   "cell_type": "code",
   "execution_count": null,
   "id": "d86cf2d1",
   "metadata": {},
   "outputs": [],
   "source": [
    "models = get_models()\n",
    "models"
   ]
  },
  {
   "cell_type": "code",
   "execution_count": null,
   "id": "008e1061",
   "metadata": {},
   "outputs": [],
   "source": [
    "show_results(models, X, y)"
   ]
  },
  {
   "cell_type": "markdown",
   "id": "0a7a8413",
   "metadata": {},
   "source": [
    "# Extra Trees Ensemble"
   ]
  },
  {
   "cell_type": "markdown",
   "id": "a19735bd",
   "metadata": {},
   "source": [
    "## Evaluate Extra Trees Ensembles"
   ]
  },
  {
   "cell_type": "markdown",
   "id": "ff301145",
   "metadata": {},
   "source": [
    "**Extra Trees for Classification**"
   ]
  },
  {
   "cell_type": "code",
   "execution_count": null,
   "id": "fc525a26",
   "metadata": {},
   "outputs": [],
   "source": [
    "from sklearn.ensemble import ExtraTreesClassifier"
   ]
  },
  {
   "cell_type": "code",
   "execution_count": null,
   "id": "b7a6b9d6",
   "metadata": {},
   "outputs": [],
   "source": [
    "X, y = make_clas_dataset(random_state=4)"
   ]
  },
  {
   "cell_type": "code",
   "execution_count": null,
   "id": "bbcd58d5",
   "metadata": {},
   "outputs": [],
   "source": [
    "model = ExtraTreesClassifier()"
   ]
  },
  {
   "cell_type": "code",
   "execution_count": null,
   "id": "473f8ae2",
   "metadata": {},
   "outputs": [],
   "source": [
    "cv = RepeatedStratifiedKFold(n_splits=10, n_repeats=3, random_state=1)"
   ]
  },
  {
   "cell_type": "code",
   "execution_count": null,
   "id": "cdb5d2d9",
   "metadata": {},
   "outputs": [
    {
     "name": "stdout",
     "output_type": "stream",
     "text": [
      " 0.907 ( 0.025)\n"
     ]
    }
   ],
   "source": [
    "results = cross_val_score(model, X, y, scoring='accuracy', cv=cv)\n",
    "print(f'{results.mean(): .3f} ({results.std(): .3f})')"
   ]
  },
  {
   "cell_type": "code",
   "execution_count": null,
   "id": "15ff3714",
   "metadata": {},
   "outputs": [
    {
     "data": {
      "text/html": [
       "<style>#sk-container-id-2 {color: black;background-color: white;}#sk-container-id-2 pre{padding: 0;}#sk-container-id-2 div.sk-toggleable {background-color: white;}#sk-container-id-2 label.sk-toggleable__label {cursor: pointer;display: block;width: 100%;margin-bottom: 0;padding: 0.3em;box-sizing: border-box;text-align: center;}#sk-container-id-2 label.sk-toggleable__label-arrow:before {content: \"▸\";float: left;margin-right: 0.25em;color: #696969;}#sk-container-id-2 label.sk-toggleable__label-arrow:hover:before {color: black;}#sk-container-id-2 div.sk-estimator:hover label.sk-toggleable__label-arrow:before {color: black;}#sk-container-id-2 div.sk-toggleable__content {max-height: 0;max-width: 0;overflow: hidden;text-align: left;background-color: #f0f8ff;}#sk-container-id-2 div.sk-toggleable__content pre {margin: 0.2em;color: black;border-radius: 0.25em;background-color: #f0f8ff;}#sk-container-id-2 input.sk-toggleable__control:checked~div.sk-toggleable__content {max-height: 200px;max-width: 100%;overflow: auto;}#sk-container-id-2 input.sk-toggleable__control:checked~label.sk-toggleable__label-arrow:before {content: \"▾\";}#sk-container-id-2 div.sk-estimator input.sk-toggleable__control:checked~label.sk-toggleable__label {background-color: #d4ebff;}#sk-container-id-2 div.sk-label input.sk-toggleable__control:checked~label.sk-toggleable__label {background-color: #d4ebff;}#sk-container-id-2 input.sk-hidden--visually {border: 0;clip: rect(1px 1px 1px 1px);clip: rect(1px, 1px, 1px, 1px);height: 1px;margin: -1px;overflow: hidden;padding: 0;position: absolute;width: 1px;}#sk-container-id-2 div.sk-estimator {font-family: monospace;background-color: #f0f8ff;border: 1px dotted black;border-radius: 0.25em;box-sizing: border-box;margin-bottom: 0.5em;}#sk-container-id-2 div.sk-estimator:hover {background-color: #d4ebff;}#sk-container-id-2 div.sk-parallel-item::after {content: \"\";width: 100%;border-bottom: 1px solid gray;flex-grow: 1;}#sk-container-id-2 div.sk-label:hover label.sk-toggleable__label {background-color: #d4ebff;}#sk-container-id-2 div.sk-serial::before {content: \"\";position: absolute;border-left: 1px solid gray;box-sizing: border-box;top: 0;bottom: 0;left: 50%;z-index: 0;}#sk-container-id-2 div.sk-serial {display: flex;flex-direction: column;align-items: center;background-color: white;padding-right: 0.2em;padding-left: 0.2em;position: relative;}#sk-container-id-2 div.sk-item {position: relative;z-index: 1;}#sk-container-id-2 div.sk-parallel {display: flex;align-items: stretch;justify-content: center;background-color: white;position: relative;}#sk-container-id-2 div.sk-item::before, #sk-container-id-2 div.sk-parallel-item::before {content: \"\";position: absolute;border-left: 1px solid gray;box-sizing: border-box;top: 0;bottom: 0;left: 50%;z-index: -1;}#sk-container-id-2 div.sk-parallel-item {display: flex;flex-direction: column;z-index: 1;position: relative;background-color: white;}#sk-container-id-2 div.sk-parallel-item:first-child::after {align-self: flex-end;width: 50%;}#sk-container-id-2 div.sk-parallel-item:last-child::after {align-self: flex-start;width: 50%;}#sk-container-id-2 div.sk-parallel-item:only-child::after {width: 0;}#sk-container-id-2 div.sk-dashed-wrapped {border: 1px dashed gray;margin: 0 0.4em 0.5em 0.4em;box-sizing: border-box;padding-bottom: 0.4em;background-color: white;}#sk-container-id-2 div.sk-label label {font-family: monospace;font-weight: bold;display: inline-block;line-height: 1.2em;}#sk-container-id-2 div.sk-label-container {text-align: center;}#sk-container-id-2 div.sk-container {/* jupyter's `normalize.less` sets `[hidden] { display: none; }` but bootstrap.min.css set `[hidden] { display: none !important; }` so we also need the `!important` here to be able to override the default hidden behavior on the sphinx rendered scikit-learn.org. See: https://github.com/scikit-learn/scikit-learn/issues/21755 */display: inline-block !important;position: relative;}#sk-container-id-2 div.sk-text-repr-fallback {display: none;}</style><div id=\"sk-container-id-2\" class=\"sk-top-container\"><div class=\"sk-text-repr-fallback\"><pre>ExtraTreesClassifier()</pre><b>In a Jupyter environment, please rerun this cell to show the HTML representation or trust the notebook. <br />On GitHub, the HTML representation is unable to render, please try loading this page with nbviewer.org.</b></div><div class=\"sk-container\" hidden><div class=\"sk-item\"><div class=\"sk-estimator sk-toggleable\"><input class=\"sk-toggleable__control sk-hidden--visually\" id=\"sk-estimator-id-2\" type=\"checkbox\" checked><label for=\"sk-estimator-id-2\" class=\"sk-toggleable__label sk-toggleable__label-arrow\">ExtraTreesClassifier</label><div class=\"sk-toggleable__content\"><pre>ExtraTreesClassifier()</pre></div></div></div></div></div>"
      ],
      "text/plain": [
       "ExtraTreesClassifier()"
      ]
     },
     "execution_count": null,
     "metadata": {},
     "output_type": "execute_result"
    }
   ],
   "source": [
    "model.fit(X, y)"
   ]
  },
  {
   "cell_type": "code",
   "execution_count": null,
   "id": "3151f1d1",
   "metadata": {},
   "outputs": [],
   "source": [
    "row = [-3.52169364, 4.00560592, 2.94756812, -0.09755101, -0.98835896, 1.81021933,\n",
    "-0.32657994, 1.08451928, 4.98150546, -2.53855736, 3.43500614, 1.64660497, -4.1557091,\n",
    "-1.55301045, -0.30690987, -1.47665577, 6.818756, 0.5132918, 4.3598337, -4.31785495]"
   ]
  },
  {
   "cell_type": "code",
   "execution_count": null,
   "id": "c04ce3f6",
   "metadata": {},
   "outputs": [
    {
     "name": "stdout",
     "output_type": "stream",
     "text": [
      "0\n"
     ]
    }
   ],
   "source": [
    "yhat = model.predict([row])\n",
    "print(f'{yhat[0]}')"
   ]
  },
  {
   "cell_type": "markdown",
   "id": "31fe59bb",
   "metadata": {},
   "source": [
    "**Extra Trees for Regression**"
   ]
  },
  {
   "cell_type": "code",
   "execution_count": null,
   "id": "899626d8",
   "metadata": {},
   "outputs": [],
   "source": [
    "from sklearn.ensemble import ExtraTreesRegressor"
   ]
  },
  {
   "cell_type": "code",
   "execution_count": null,
   "id": "a8706198",
   "metadata": {},
   "outputs": [],
   "source": [
    "X, y = make_reg_dataset(random_state=3)"
   ]
  },
  {
   "cell_type": "code",
   "execution_count": null,
   "id": "b79e6ea6",
   "metadata": {},
   "outputs": [],
   "source": [
    "model = ExtraTreesRegressor()"
   ]
  },
  {
   "cell_type": "code",
   "execution_count": null,
   "id": "caacbe14",
   "metadata": {},
   "outputs": [],
   "source": [
    "cv = RepeatedKFold(n_splits=10, n_repeats=3, random_state=1)"
   ]
  },
  {
   "cell_type": "code",
   "execution_count": null,
   "id": "b168e6d8",
   "metadata": {},
   "outputs": [
    {
     "name": "stdout",
     "output_type": "stream",
     "text": [
      "-69.667 ( 4.984)\n"
     ]
    }
   ],
   "source": [
    "results = cross_val_score(model, X, y, scoring='neg_mean_absolute_error', cv=cv)\n",
    "print(f'{results.mean(): .3f} ({results.std(): .3f})')"
   ]
  },
  {
   "cell_type": "code",
   "execution_count": null,
   "id": "324fed4b",
   "metadata": {},
   "outputs": [
    {
     "data": {
      "text/html": [
       "<style>#sk-container-id-3 {color: black;background-color: white;}#sk-container-id-3 pre{padding: 0;}#sk-container-id-3 div.sk-toggleable {background-color: white;}#sk-container-id-3 label.sk-toggleable__label {cursor: pointer;display: block;width: 100%;margin-bottom: 0;padding: 0.3em;box-sizing: border-box;text-align: center;}#sk-container-id-3 label.sk-toggleable__label-arrow:before {content: \"▸\";float: left;margin-right: 0.25em;color: #696969;}#sk-container-id-3 label.sk-toggleable__label-arrow:hover:before {color: black;}#sk-container-id-3 div.sk-estimator:hover label.sk-toggleable__label-arrow:before {color: black;}#sk-container-id-3 div.sk-toggleable__content {max-height: 0;max-width: 0;overflow: hidden;text-align: left;background-color: #f0f8ff;}#sk-container-id-3 div.sk-toggleable__content pre {margin: 0.2em;color: black;border-radius: 0.25em;background-color: #f0f8ff;}#sk-container-id-3 input.sk-toggleable__control:checked~div.sk-toggleable__content {max-height: 200px;max-width: 100%;overflow: auto;}#sk-container-id-3 input.sk-toggleable__control:checked~label.sk-toggleable__label-arrow:before {content: \"▾\";}#sk-container-id-3 div.sk-estimator input.sk-toggleable__control:checked~label.sk-toggleable__label {background-color: #d4ebff;}#sk-container-id-3 div.sk-label input.sk-toggleable__control:checked~label.sk-toggleable__label {background-color: #d4ebff;}#sk-container-id-3 input.sk-hidden--visually {border: 0;clip: rect(1px 1px 1px 1px);clip: rect(1px, 1px, 1px, 1px);height: 1px;margin: -1px;overflow: hidden;padding: 0;position: absolute;width: 1px;}#sk-container-id-3 div.sk-estimator {font-family: monospace;background-color: #f0f8ff;border: 1px dotted black;border-radius: 0.25em;box-sizing: border-box;margin-bottom: 0.5em;}#sk-container-id-3 div.sk-estimator:hover {background-color: #d4ebff;}#sk-container-id-3 div.sk-parallel-item::after {content: \"\";width: 100%;border-bottom: 1px solid gray;flex-grow: 1;}#sk-container-id-3 div.sk-label:hover label.sk-toggleable__label {background-color: #d4ebff;}#sk-container-id-3 div.sk-serial::before {content: \"\";position: absolute;border-left: 1px solid gray;box-sizing: border-box;top: 0;bottom: 0;left: 50%;z-index: 0;}#sk-container-id-3 div.sk-serial {display: flex;flex-direction: column;align-items: center;background-color: white;padding-right: 0.2em;padding-left: 0.2em;position: relative;}#sk-container-id-3 div.sk-item {position: relative;z-index: 1;}#sk-container-id-3 div.sk-parallel {display: flex;align-items: stretch;justify-content: center;background-color: white;position: relative;}#sk-container-id-3 div.sk-item::before, #sk-container-id-3 div.sk-parallel-item::before {content: \"\";position: absolute;border-left: 1px solid gray;box-sizing: border-box;top: 0;bottom: 0;left: 50%;z-index: -1;}#sk-container-id-3 div.sk-parallel-item {display: flex;flex-direction: column;z-index: 1;position: relative;background-color: white;}#sk-container-id-3 div.sk-parallel-item:first-child::after {align-self: flex-end;width: 50%;}#sk-container-id-3 div.sk-parallel-item:last-child::after {align-self: flex-start;width: 50%;}#sk-container-id-3 div.sk-parallel-item:only-child::after {width: 0;}#sk-container-id-3 div.sk-dashed-wrapped {border: 1px dashed gray;margin: 0 0.4em 0.5em 0.4em;box-sizing: border-box;padding-bottom: 0.4em;background-color: white;}#sk-container-id-3 div.sk-label label {font-family: monospace;font-weight: bold;display: inline-block;line-height: 1.2em;}#sk-container-id-3 div.sk-label-container {text-align: center;}#sk-container-id-3 div.sk-container {/* jupyter's `normalize.less` sets `[hidden] { display: none; }` but bootstrap.min.css set `[hidden] { display: none !important; }` so we also need the `!important` here to be able to override the default hidden behavior on the sphinx rendered scikit-learn.org. See: https://github.com/scikit-learn/scikit-learn/issues/21755 */display: inline-block !important;position: relative;}#sk-container-id-3 div.sk-text-repr-fallback {display: none;}</style><div id=\"sk-container-id-3\" class=\"sk-top-container\"><div class=\"sk-text-repr-fallback\"><pre>ExtraTreesRegressor()</pre><b>In a Jupyter environment, please rerun this cell to show the HTML representation or trust the notebook. <br />On GitHub, the HTML representation is unable to render, please try loading this page with nbviewer.org.</b></div><div class=\"sk-container\" hidden><div class=\"sk-item\"><div class=\"sk-estimator sk-toggleable\"><input class=\"sk-toggleable__control sk-hidden--visually\" id=\"sk-estimator-id-3\" type=\"checkbox\" checked><label for=\"sk-estimator-id-3\" class=\"sk-toggleable__label sk-toggleable__label-arrow\">ExtraTreesRegressor</label><div class=\"sk-toggleable__content\"><pre>ExtraTreesRegressor()</pre></div></div></div></div></div>"
      ],
      "text/plain": [
       "ExtraTreesRegressor()"
      ]
     },
     "execution_count": null,
     "metadata": {},
     "output_type": "execute_result"
    }
   ],
   "source": [
    "model.fit(X, y)"
   ]
  },
  {
   "cell_type": "code",
   "execution_count": null,
   "id": "629d32e7",
   "metadata": {},
   "outputs": [],
   "source": [
    "row = [-0.56996683, 0.80144889, 2.77523539, 1.32554027, -1.44494378, -0.80834175,\n",
    "-0.84142896, 0.57710245, 0.96235932, -0.66303907, -1.13994112, 0.49887995, 1.40752035,\n",
    "-0.2995842, -0.05708706, -2.08701456, 1.17768469, 0.13474234, 0.09518152, -0.07603207]"
   ]
  },
  {
   "cell_type": "code",
   "execution_count": null,
   "id": "c81e6e20",
   "metadata": {},
   "outputs": [
    {
     "name": "stdout",
     "output_type": "stream",
     "text": [
      "53\n"
     ]
    }
   ],
   "source": [
    "yhat = model.predict([row])\n",
    "print(f'{int(yhat[0])}')"
   ]
  },
  {
   "cell_type": "markdown",
   "id": "e55027ef",
   "metadata": {},
   "source": [
    "## Extra Trees Hyperparameters"
   ]
  },
  {
   "cell_type": "code",
   "execution_count": null,
   "id": "e90b9303",
   "metadata": {},
   "outputs": [],
   "source": [
    "from sklearn.ensemble import ExtraTreesClassifier"
   ]
  },
  {
   "cell_type": "markdown",
   "id": "292ff00e",
   "metadata": {},
   "source": [
    "**Explore Number of Trees**"
   ]
  },
  {
   "cell_type": "code",
   "execution_count": null,
   "id": "d8d57544",
   "metadata": {},
   "outputs": [],
   "source": [
    "def get_models():\n",
    "    models = dict()\n",
    "    n_trees = [10, 50, 100]\n",
    "    for n in n_trees:\n",
    "        models[str(n)] = ExtraTreesClassifier(n_estimators=n)\n",
    "    return models "
   ]
  },
  {
   "cell_type": "code",
   "execution_count": null,
   "id": "676aaa99",
   "metadata": {},
   "outputs": [],
   "source": [
    "X, y = make_clas_dataset(random_state=4)"
   ]
  },
  {
   "cell_type": "code",
   "execution_count": null,
   "id": "8f8d1c9c",
   "metadata": {},
   "outputs": [
    {
     "data": {
      "text/plain": [
       "{'10': ExtraTreesClassifier(n_estimators=10),\n",
       " '50': ExtraTreesClassifier(n_estimators=50),\n",
       " '100': ExtraTreesClassifier()}"
      ]
     },
     "execution_count": null,
     "metadata": {},
     "output_type": "execute_result"
    }
   ],
   "source": [
    "models = get_models()\n",
    "models"
   ]
  },
  {
   "cell_type": "code",
   "execution_count": null,
   "id": "3bad3036",
   "metadata": {},
   "outputs": [
    {
     "name": "stdout",
     "output_type": "stream",
     "text": [
      "10:  0.855 ( 0.025)\n",
      "50:  0.902 ( 0.028)\n",
      "100:  0.906 ( 0.023)\n"
     ]
    },
    {
     "data": {
      "image/png": "[encoded data removed]",
      "text/plain": [
       "<Figure size 640x480 with 1 Axes>"
      ]
     },
     "metadata": {},
     "output_type": "display_data"
    }
   ],
   "source": [
    "show_results(models, X, y)"
   ]
  },
  {
   "cell_type": "markdown",
   "id": "c1b2b485",
   "metadata": {},
   "source": [
    "**Explore Number of Features**"
   ]
  },
  {
   "cell_type": "code",
   "execution_count": null,
   "id": "5cfb113c",
   "metadata": {},
   "outputs": [],
   "source": [
    "def get_models():\n",
    "    models = dict()\n",
    "    for i in range(1, 5):\n",
    "        models[str(i)] = ExtraTreesClassifier(max_features=i)\n",
    "    return models"
   ]
  },
  {
   "cell_type": "code",
   "execution_count": null,
   "id": "451cd663",
   "metadata": {},
   "outputs": [],
   "source": [
    "X , y = make_clas_dataset(random_state=4)"
   ]
  },
  {
   "cell_type": "code",
   "execution_count": null,
   "id": "0829869c",
   "metadata": {},
   "outputs": [
    {
     "data": {
      "text/plain": [
       "{'1': ExtraTreesClassifier(max_features=1),\n",
       " '2': ExtraTreesClassifier(max_features=2),\n",
       " '3': ExtraTreesClassifier(max_features=3),\n",
       " '4': ExtraTreesClassifier(max_features=4)}"
      ]
     },
     "execution_count": null,
     "metadata": {},
     "output_type": "execute_result"
    }
   ],
   "source": [
    "models = get_models()\n",
    "models"
   ]
  },
  {
   "cell_type": "code",
   "execution_count": null,
   "id": "f88b9c9c",
   "metadata": {},
   "outputs": [
    {
     "name": "stdout",
     "output_type": "stream",
     "text": [
      "1:  0.895 ( 0.025)\n",
      "2:  0.901 ( 0.026)\n",
      "3:  0.907 ( 0.028)\n",
      "4:  0.904 ( 0.025)\n"
     ]
    },
    {
     "data": {
      "image/png": "[encoded data removed]",
      "text/plain": [
       "<Figure size 640x480 with 1 Axes>"
      ]
     },
     "metadata": {},
     "output_type": "display_data"
    }
   ],
   "source": [
    "show_results(models, X, y)"
   ]
  },
  {
   "cell_type": "markdown",
   "id": "a3eb97fe",
   "metadata": {},
   "source": [
    "**Explore Minimum Samples per Split**"
   ]
  },
  {
   "cell_type": "code",
   "execution_count": null,
   "id": "bcddec74",
   "metadata": {},
   "outputs": [],
   "source": [
    "def get_models():\n",
    "    models = dict()\n",
    "    for i in range(2, 5):\n",
    "        models[str(i)] = ExtraTreesClassifier(min_samples_split=i)\n",
    "    return models"
   ]
  },
  {
   "cell_type": "code",
   "execution_count": null,
   "id": "ce00be81",
   "metadata": {},
   "outputs": [],
   "source": [
    "X, y = make_clas_dataset(random_state=4)"
   ]
  },
  {
   "cell_type": "code",
   "execution_count": null,
   "id": "e33b680e",
   "metadata": {},
   "outputs": [
    {
     "data": {
      "text/plain": [
       "{'2': ExtraTreesClassifier(),\n",
       " '3': ExtraTreesClassifier(min_samples_split=3),\n",
       " '4': ExtraTreesClassifier(min_samples_split=4)}"
      ]
     },
     "execution_count": null,
     "metadata": {},
     "output_type": "execute_result"
    }
   ],
   "source": [
    "models = get_models()\n",
    "models"
   ]
  },
  {
   "cell_type": "code",
   "execution_count": null,
   "id": "d98629c6",
   "metadata": {},
   "outputs": [
    {
     "name": "stdout",
     "output_type": "stream",
     "text": [
      "2:  0.909 ( 0.026)\n",
      "3:  0.913 ( 0.025)\n",
      "4:  0.909 ( 0.027)\n"
     ]
    },
    {
     "data": {
      "image/png": "[encoded data removed]",
      "text/plain": [
       "<Figure size 640x480 with 1 Axes>"
      ]
     },
     "metadata": {},
     "output_type": "display_data"
    }
   ],
   "source": [
    "show_results(models, X, y)"
   ]
  },
  {
   "cell_type": "markdown",
   "id": "4e087445",
   "metadata": {},
   "source": [
    "# Data Transform Bagging Ensemble"
   ]
  },
  {
   "cell_type": "code",
   "execution_count": null,
   "id": "225a533e",
   "metadata": {},
   "outputs": [],
   "source": []
  },
  {
   "cell_type": "code",
   "execution_count": null,
   "id": "4a4294d5",
   "metadata": {},
   "outputs": [],
   "source": []
  },
  {
   "cell_type": "code",
   "execution_count": null,
   "id": "7bd554a7",
   "metadata": {},
   "outputs": [],
   "source": []
  },
  {
   "cell_type": "code",
   "execution_count": null,
   "id": "16411e95",
   "metadata": {},
   "outputs": [],
   "source": []
  },
  {
   "cell_type": "code",
   "execution_count": null,
   "id": "9bd596ee",
   "metadata": {},
   "outputs": [],
   "source": []
  },
  {
   "cell_type": "code",
   "execution_count": null,
   "id": "93d17626",
   "metadata": {},
   "outputs": [],
   "source": []
  },
  {
   "cell_type": "code",
   "execution_count": null,
   "id": "77b4c824",
   "metadata": {},
   "outputs": [],
   "source": []
  },
  {
   "cell_type": "code",
   "execution_count": null,
   "id": "e7cbb10e",
   "metadata": {},
   "outputs": [],
   "source": []
  },
  {
   "cell_type": "code",
   "execution_count": null,
   "id": "ce927950",
   "metadata": {},
   "outputs": [],
   "source": []
  },
  {
   "cell_type": "code",
   "execution_count": null,
   "id": "42a28919",
   "metadata": {},
   "outputs": [],
   "source": []
  }
 ],
 "metadata": {
  "kernelspec": {
   "display_name": "Python 3 (ipykernel)",
   "language": "python",
   "name": "python3"
  }
 },
 "nbformat": 4,
 "nbformat_minor": 5
}

{
 "cells": [
  {
   "cell_type": "markdown",
   "id": "b6b78f82",
   "metadata": {},
   "source": [
    "**Stacking**"
   ]
  },
  {
   "cell_type": "code",
   "execution_count": null,
   "id": "89e99bab",
   "metadata": {},
   "outputs": [],
   "source": [
    "from matplotlib import pyplot\n",
    "from sklearn.model_selection import RepeatedStratifiedKFold, RepeatedKFold, cross_val_score\n",
    "from sklearn.datasets import make_classification, make_regression"
   ]
  },
  {
   "cell_type": "code",
   "execution_count": null,
   "id": "4524dac5",
   "metadata": {},
   "outputs": [],
   "source": [
    "def make_clas_dataset(n_samples=1000, n_features=20, n_informative=15, n_redundant=5, random_state=6):\n",
    "    X,y = make_classification(n_samples=n_samples, n_features=n_features, \n",
    "                              n_informative=n_informative, n_redundant=n_redundant, \n",
    "                              random_state=random_state)\n",
    "    return X,y"
   ]
  },
  {
   "cell_type": "code",
   "execution_count": null,
   "id": "71895e9f",
   "metadata": {},
   "outputs": [],
   "source": [
    "def make_reg_dataset(n_samples=1000, n_features=20, n_informative=15, noise=0.1, random_state=6):\n",
    "    X,y = make_regression(n_samples=n_samples, n_features=n_features, \n",
    "                          n_informative=n_informative, noise=noise,\n",
    "                          random_state=random_state)\n",
    "    return X,y"
   ]
  },
  {
   "cell_type": "code",
   "execution_count": null,
   "id": "37c47a34",
   "metadata": {},
   "outputs": [],
   "source": [
    "def show_results(X, y, models, scoring, cv):    \n",
    "    results, names = [], []\n",
    "    for name, model in models.items():\n",
    "        scores = cross_val_score(model, X, y, scoring=scoring, cv=cv)\n",
    "        results.append(scores)\n",
    "        names.append(name)\n",
    "        print(f'{name}: {scores.mean():.3f} ({scores.std():.3f})')\n",
    "    pyplot.boxplot(results, labels=names, showmeans=True)\n",
    "    pyplot.show()"
   ]
  },
  {
   "cell_type": "markdown",
   "id": "9b17ecb6",
   "metadata": {},
   "source": [
    "# Voting Ensemble "
   ]
  },
  {
   "cell_type": "code",
   "execution_count": null,
   "id": "ff9ab77d",
   "metadata": {},
   "outputs": [],
   "source": [
    "from sklearn.ensemble import VotingClassifier\n",
    "from sklearn.neighbors import KNeighborsClassifier"
   ]
  },
  {
   "cell_type": "markdown",
   "id": "183a98e9",
   "metadata": {},
   "source": [
    "## Voting Ensemble for Classification"
   ]
  },
  {
   "cell_type": "markdown",
   "id": "2ceada4c",
   "metadata": {},
   "source": [
    "**Hard Voting Ensemble for Classification**"
   ]
  },
  {
   "cell_type": "code",
   "execution_count": null,
   "id": "17bad39e",
   "metadata": {},
   "outputs": [],
   "source": [
    "def get_models():\n",
    "    models = dict()\n",
    "    neighbors = [1, 3, 5, 7, 9]\n",
    "    for n in neighbors:\n",
    "        key = 'knn' + str(n)\n",
    "        models[key] = KNeighborsClassifier(n_neighbors=n)\n",
    "    members = [(n,m) for n,m in models.items()]\n",
    "    models['hard_voting'] = VotingClassifier(estimators=members, voting='hard')\n",
    "    return models"
   ]
  },
  {
   "cell_type": "code",
   "execution_count": null,
   "id": "7a081d8e",
   "metadata": {},
   "outputs": [],
   "source": [
    "X, y = make_clas_dataset()"
   ]
  },
  {
   "cell_type": "code",
   "execution_count": null,
   "id": "df2f2e78",
   "metadata": {},
   "outputs": [],
   "source": [
    "models = get_models()\n",
    "models"
   ]
  },
  {
   "cell_type": "code",
   "execution_count": null,
   "id": "b51062c9",
   "metadata": {},
   "outputs": [],
   "source": [
    "cv = RepeatedStratifiedKFold(n_splits=10, n_repeats=3, random_state=1)"
   ]
  },
  {
   "cell_type": "code",
   "execution_count": null,
   "id": "bcd75df5",
   "metadata": {},
   "outputs": [],
   "source": [
    "show_results(X, y, models)"
   ]
  },
  {
   "cell_type": "code",
   "execution_count": null,
   "id": "9a5f3d56",
   "metadata": {},
   "outputs": [],
   "source": []
  },
  {
   "cell_type": "code",
   "execution_count": null,
   "id": "01507e4a",
   "metadata": {},
   "outputs": [],
   "source": [
    "models = []\n",
    "neighbors = [1, 3, 5, 7, 9]"
   ]
  },
  {
   "cell_type": "code",
   "execution_count": null,
   "id": "143362c6",
   "metadata": {},
   "outputs": [],
   "source": [
    "for n in neighbors:\n",
    "    models.append(('knn'+str(n), KNeighborsClassifier(n_neighbors=n)))"
   ]
  },
  {
   "cell_type": "code",
   "execution_count": null,
   "id": "1737ce22",
   "metadata": {},
   "outputs": [],
   "source": [
    "ensemble = VotingClassifier(estimators=models, voting='hard')"
   ]
  },
  {
   "cell_type": "code",
   "execution_count": null,
   "id": "d10f5f4e",
   "metadata": {},
   "outputs": [],
   "source": [
    "ensemble.fit(X, y)"
   ]
  },
  {
   "cell_type": "code",
   "execution_count": null,
   "id": "82077f4b",
   "metadata": {},
   "outputs": [],
   "source": [
    "row = [5.88891819, 2.64867662, -0.42728226, -1.24988856, -0.00822, -3.57895574, 2.87938412,\n",
    "-1.55614691, -0.38168784, 7.50285659, -1.16710354, -5.02492712, -0.46196105,\n",
    "-0.64539455, -1.71297469, 0.25987852, -0.193401, -5.52022952, 0.0364453, -1.960039]"
   ]
  },
  {
   "cell_type": "code",
   "execution_count": null,
   "id": "cb5b9ec1",
   "metadata": {},
   "outputs": [],
   "source": [
    "yhat = ensemble.predict([row])\n",
    "print(f'{yhat[0]}')"
   ]
  },
  {
   "cell_type": "markdown",
   "id": "daac055f",
   "metadata": {},
   "source": [
    "**Soft Voting Ensemble for Classification**"
   ]
  },
  {
   "cell_type": "code",
   "execution_count": null,
   "id": "229ad64f",
   "metadata": {},
   "outputs": [],
   "source": [
    "from sklearn.svm import SVC"
   ]
  },
  {
   "cell_type": "code",
   "execution_count": null,
   "id": "ee6ff8a4",
   "metadata": {},
   "outputs": [],
   "source": [
    "def get_models():\n",
    "    models = dict()\n",
    "    for n in range(1,6):\n",
    "        key = 'svm' + str(n)\n",
    "        models[key] = SVC(probability=True, kernel='poly', degree=n)\n",
    "    members = [(n,m) for n,m in models.items()]\n",
    "    models['soft_voting'] = VotingClassifier(estimators=members, voting='soft')\n",
    "    return models"
   ]
  },
  {
   "cell_type": "code",
   "execution_count": null,
   "id": "74e72664",
   "metadata": {},
   "outputs": [],
   "source": [
    "X, y = make_clas_dataset()"
   ]
  },
  {
   "cell_type": "code",
   "execution_count": null,
   "id": "d862109d",
   "metadata": {},
   "outputs": [],
   "source": [
    "models = get_models()\n",
    "models"
   ]
  },
  {
   "cell_type": "code",
   "execution_count": null,
   "id": "4714412d",
   "metadata": {},
   "outputs": [],
   "source": [
    "cv = RepeatedStratifiedKFold(n_splits=10, n_repeats=3, random_state=1)"
   ]
  },
  {
   "cell_type": "code",
   "execution_count": null,
   "id": "3486f791",
   "metadata": {},
   "outputs": [],
   "source": [
    "show_results(X, y, models, cv, 'accuracy')"
   ]
  },
  {
   "cell_type": "code",
   "execution_count": null,
   "id": "6696ebb1",
   "metadata": {},
   "outputs": [],
   "source": [
    "models = []\n",
    "for n in range(1,6):\n",
    "    models.append(('svm'+str(n), SVC(probability=True, kernel='poly', degree=n)))\n",
    "models"
   ]
  },
  {
   "cell_type": "code",
   "execution_count": null,
   "id": "49528d7f",
   "metadata": {},
   "outputs": [],
   "source": [
    "ensemble = VotingClassifier(estimators=models, voting='soft')"
   ]
  },
  {
   "cell_type": "code",
   "execution_count": null,
   "id": "d9379b77",
   "metadata": {},
   "outputs": [],
   "source": [
    "ensemble.fit(X, y)"
   ]
  },
  {
   "cell_type": "code",
   "execution_count": null,
   "id": "79268537",
   "metadata": {},
   "outputs": [],
   "source": [
    "row = [5.88891819, 2.64867662, -0.42728226, -1.24988856, -0.00822, -3.57895574, 2.87938412,\n",
    "       -1.55614691, -0.38168784, 7.50285659, -1.16710354, -5.02492712, -0.46196105,-0.64539455, \n",
    "       -1.71297469, 0.25987852, -0.193401, -5.52022952, 0.0364453, -1.960039]"
   ]
  },
  {
   "cell_type": "code",
   "execution_count": null,
   "id": "00bde84f",
   "metadata": {},
   "outputs": [],
   "source": [
    "yhat = ensemble.predict([row])\n",
    "print(f'{yhat[0]}')"
   ]
  },
  {
   "cell_type": "markdown",
   "id": "dd84d5f4",
   "metadata": {},
   "source": [
    "## Voting Ensemble for Regression"
   ]
  },
  {
   "cell_type": "code",
   "execution_count": null,
   "id": "ee5329f9",
   "metadata": {},
   "outputs": [],
   "source": [
    "from sklearn.tree import DecisionTreeRegressor\n",
    "from sklearn.ensemble import VotingRegressor"
   ]
  },
  {
   "cell_type": "code",
   "execution_count": null,
   "id": "314f7fdd",
   "metadata": {},
   "outputs": [],
   "source": [
    "def get_models():\n",
    "    models = dict()\n",
    "    for n in range(1,6):\n",
    "        key = 'cart' + str(n)\n",
    "        models[key] = DecisionTreeRegressor(max_depth=n)\n",
    "    members = [(n,m) for n,m in models.items()]\n",
    "    models['voting'] = VotingRegressor(estimators=members)\n",
    "    return models"
   ]
  },
  {
   "cell_type": "code",
   "execution_count": null,
   "id": "a282c9cc",
   "metadata": {},
   "outputs": [],
   "source": [
    "X, y = make_reg_dataset()"
   ]
  },
  {
   "cell_type": "code",
   "execution_count": null,
   "id": "493a653f",
   "metadata": {},
   "outputs": [],
   "source": [
    "models = get_models()\n",
    "models"
   ]
  },
  {
   "cell_type": "code",
   "execution_count": null,
   "id": "3dcc6629",
   "metadata": {},
   "outputs": [],
   "source": [
    "cv = RepeatedKFold(n_splits=10 ,n_repeats=3, random_state=1)"
   ]
  },
  {
   "cell_type": "code",
   "execution_count": null,
   "id": "928469c7",
   "metadata": {},
   "outputs": [],
   "source": [
    "show_results(X, y, models, 'neg_mean_absolute_error', cv)"
   ]
  },
  {
   "cell_type": "code",
   "execution_count": null,
   "id": "c05d10bb",
   "metadata": {},
   "outputs": [],
   "source": [
    "models = []"
   ]
  },
  {
   "cell_type": "code",
   "execution_count": null,
   "id": "e73be194",
   "metadata": {},
   "outputs": [],
   "source": [
    "for n in range(1,6):\n",
    "    models.append(('cart'+str(n), DecisionTreeRegressor(max_depth=n)))\n",
    "models"
   ]
  },
  {
   "cell_type": "code",
   "execution_count": null,
   "id": "c11f3ef1",
   "metadata": {},
   "outputs": [],
   "source": [
    "ensemble = VotingRegressor(estimators=models)"
   ]
  },
  {
   "cell_type": "code",
   "execution_count": null,
   "id": "d8c6d77e",
   "metadata": {},
   "outputs": [],
   "source": [
    "ensemble.fit(X, y)"
   ]
  },
  {
   "cell_type": "code",
   "execution_count": null,
   "id": "5cbb28aa",
   "metadata": {},
   "outputs": [],
   "source": [
    "row = [0.59332206, -0.56637507, 1.34808718, -0.57054047, -0.72480487, 1.05648449,\n",
    "0.77744852, 0.07361796, 0.88398267, 2.02843157, 1.01902732, 0.11227799, 0.94218853,\n",
    "       0.26741783, 0.91458143, -0.72759572, 1.08842814, -0.61450942, -0.69387293, 1.69169009]"
   ]
  },
  {
   "cell_type": "code",
   "execution_count": null,
   "id": "223076c6",
   "metadata": {},
   "outputs": [],
   "source": [
    "yhat = ensemble.predict([row])\n",
    "print(f'{yhat[0]}')"
   ]
  },
  {
   "cell_type": "markdown",
   "id": "76b1696f",
   "metadata": {},
   "source": [
    "# Weighted Average Ensemble"
   ]
  },
  {
   "cell_type": "markdown",
   "id": "d1d6b22f",
   "metadata": {},
   "source": [
    "## Weighted Average Ensemble for Classification"
   ]
  },
  {
   "cell_type": "code",
   "execution_count": null,
   "id": "bdc40e07",
   "metadata": {},
   "outputs": [],
   "source": []
  },
  {
   "cell_type": "code",
   "execution_count": null,
   "id": "bc8712be",
   "metadata": {},
   "outputs": [],
   "source": [
    "X, y = make_classification()"
   ]
  },
  {
   "cell_type": "code",
   "execution_count": null,
   "id": "bbadba70",
   "metadata": {},
   "outputs": [],
   "source": []
  },
  {
   "cell_type": "code",
   "execution_count": null,
   "id": "65a4364a",
   "metadata": {},
   "outputs": [],
   "source": []
  },
  {
   "cell_type": "code",
   "execution_count": null,
   "id": "2356b7a5",
   "metadata": {},
   "outputs": [],
   "source": []
  },
  {
   "cell_type": "code",
   "execution_count": null,
   "id": "52447b19",
   "metadata": {},
   "outputs": [],
   "source": []
  },
  {
   "cell_type": "code",
   "execution_count": null,
   "id": "3ee6e19f",
   "metadata": {},
   "outputs": [],
   "source": []
  },
  {
   "cell_type": "markdown",
   "id": "f1b2db9e",
   "metadata": {},
   "source": [
    "## Weighted Average Ensemble for Regression"
   ]
  },
  {
   "cell_type": "code",
   "execution_count": null,
   "id": "0ffe919d",
   "metadata": {},
   "outputs": [],
   "source": []
  },
  {
   "cell_type": "code",
   "execution_count": null,
   "id": "d1fe9eab",
   "metadata": {},
   "outputs": [],
   "source": []
  },
  {
   "cell_type": "markdown",
   "id": "fdcbdc6c",
   "metadata": {},
   "source": [
    "# Ensemble Member Selection"
   ]
  },
  {
   "cell_type": "code",
   "execution_count": null,
   "id": "1d81b3da",
   "metadata": {},
   "outputs": [],
   "source": []
  },
  {
   "cell_type": "code",
   "execution_count": null,
   "id": "688bdb30",
   "metadata": {},
   "outputs": [],
   "source": []
  },
  {
   "cell_type": "markdown",
   "id": "7cab5116",
   "metadata": {},
   "source": [
    "# Stacking Ensemble"
   ]
  },
  {
   "cell_type": "code",
   "execution_count": null,
   "id": "0324340a",
   "metadata": {},
   "outputs": [],
   "source": []
  },
  {
   "cell_type": "markdown",
   "id": "96552203",
   "metadata": {},
   "source": [
    "# Blending Ensemble"
   ]
  },
  {
   "cell_type": "code",
   "execution_count": null,
   "id": "0193fa7b",
   "metadata": {},
   "outputs": [],
   "source": []
  },
  {
   "cell_type": "markdown",
   "id": "3616059b",
   "metadata": {},
   "source": [
    "# Super Learner Ensemble"
   ]
  },
  {
   "cell_type": "code",
   "execution_count": null,
   "id": "c7359672",
   "metadata": {},
   "outputs": [],
   "source": []
  }
 ],
 "metadata": {
  "kernelspec": {
   "display_name": "Python 3 (ipykernel)",
   "language": "python",
   "name": "python3"
  }
 },
 "nbformat": 4,
 "nbformat_minor": 5
}

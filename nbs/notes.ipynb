{
 "cells": [
  {
   "cell_type": "markdown",
   "id": "2487f4a7",
   "metadata": {},
   "source": [
    "ML - Phase 1: Being a good operator \n",
    "\n",
    "At this phase the goal is to learn how to use with the tools.  \n",
    "Outcome:\n",
    "- learn python ecosystem and scikit-learn library\n",
    "- work through end-to-end applied machine learning projects.\n",
    "- get into the Kaggle competitions \n",
    "\n",
    "Dataset:\n",
    "- Small\n",
    "- Clean\n",
    "- Benchmark\n",
    "\n",
    "Classification:\n",
    "- Binary classification\n",
    "- Balanced classification"
   ]
  },
  {
   "cell_type": "markdown",
   "id": "cdb9d932",
   "metadata": {},
   "source": [
    "ML - Phase 2: Become an expert\n",
    "\n",
    "At this stage the goal is to learn how things work? and why things work? \n",
    "\n",
    "Outcome: \n",
    "- be able to read and implement papers."
   ]
  },
  {
   "cell_type": "markdown",
   "id": "a268eaec",
   "metadata": {},
   "source": [
    "DL - Phase 3"
   ]
  },
  {
   "cell_type": "code",
   "execution_count": null,
   "id": "c51b1649",
   "metadata": {},
   "outputs": [],
   "source": []
  }
 ],
 "metadata": {
  "kernelspec": {
   "display_name": "Python 3 (ipykernel)",
   "language": "python",
   "name": "python3"
  }
 },
 "nbformat": 4,
 "nbformat_minor": 5
}
